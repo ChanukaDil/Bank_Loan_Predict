{
 "cells": [
  {
   "cell_type": "markdown",
   "id": "e02fc5f8",
   "metadata": {},
   "source": [
    "# Import the required libraries"
   ]
  },
  {
   "cell_type": "code",
   "execution_count": 75,
   "id": "8992299f",
   "metadata": {},
   "outputs": [],
   "source": [
    "import pandas as pd\n",
    "import numpy as np\n",
    "import matplotlib.pyplot as plt\n",
    "import seaborn as sns\n",
    "from sklearn.model_selection import train_test_split\n",
    "from sklearn.neighbors import KNeighborsClassifier\n",
    "from sklearn.metrics import confusion_matrix,accuracy_score,classification_report,mean_squared_error\n",
    "from sklearn.model_selection import cross_val_score\n",
    "from sklearn.model_selection import StratifiedKFold\n",
    "from sklearn.feature_selection import RFE,RFECV\n",
    "from sklearn.preprocessing import LabelEncoder\n",
    "from imblearn.over_sampling import SMOTE,ADASYN\n",
    "from sklearn import preprocessing\n",
    "from sklearn import metrics\n",
    "from sklearn.tree import DecisionTreeClassifier,plot_tree\n",
    "import sklearn.tree as tree\n",
    "from sklearn.preprocessing import StandardScaler"
   ]
  },
  {
   "cell_type": "markdown",
   "id": "24e55510",
   "metadata": {},
   "source": [
    "# Load Data From CSV File"
   ]
  },
  {
   "cell_type": "code",
   "execution_count": 2,
   "id": "b045d26b",
   "metadata": {},
   "outputs": [],
   "source": [
    "df=pd.read_csv(\"C:\\\\Users\\\\ROG\\\\Desktop\\\\ML_workShop_dataSets\\\\credit_risk.csv\")"
   ]
  },
  {
   "cell_type": "code",
   "execution_count": 3,
   "id": "abcc8cac",
   "metadata": {},
   "outputs": [
    {
     "data": {
      "text/html": [
       "<div>\n",
       "<style scoped>\n",
       "    .dataframe tbody tr th:only-of-type {\n",
       "        vertical-align: middle;\n",
       "    }\n",
       "\n",
       "    .dataframe tbody tr th {\n",
       "        vertical-align: top;\n",
       "    }\n",
       "\n",
       "    .dataframe thead th {\n",
       "        text-align: right;\n",
       "    }\n",
       "</style>\n",
       "<table border=\"1\" class=\"dataframe\">\n",
       "  <thead>\n",
       "    <tr style=\"text-align: right;\">\n",
       "      <th></th>\n",
       "      <th>Id</th>\n",
       "      <th>Age</th>\n",
       "      <th>Income</th>\n",
       "      <th>Home</th>\n",
       "      <th>Emp_length</th>\n",
       "      <th>Intent</th>\n",
       "      <th>Amount</th>\n",
       "      <th>Rate</th>\n",
       "      <th>Status</th>\n",
       "      <th>Percent_income</th>\n",
       "      <th>Default</th>\n",
       "      <th>Cred_length</th>\n",
       "    </tr>\n",
       "  </thead>\n",
       "  <tbody>\n",
       "    <tr>\n",
       "      <th>0</th>\n",
       "      <td>0</td>\n",
       "      <td>22</td>\n",
       "      <td>59000</td>\n",
       "      <td>RENT</td>\n",
       "      <td>123.0</td>\n",
       "      <td>PERSONAL</td>\n",
       "      <td>35000</td>\n",
       "      <td>16.02</td>\n",
       "      <td>1</td>\n",
       "      <td>0.59</td>\n",
       "      <td>Y</td>\n",
       "      <td>3</td>\n",
       "    </tr>\n",
       "    <tr>\n",
       "      <th>1</th>\n",
       "      <td>1</td>\n",
       "      <td>21</td>\n",
       "      <td>9600</td>\n",
       "      <td>OWN</td>\n",
       "      <td>5.0</td>\n",
       "      <td>EDUCATION</td>\n",
       "      <td>1000</td>\n",
       "      <td>11.14</td>\n",
       "      <td>0</td>\n",
       "      <td>0.10</td>\n",
       "      <td>N</td>\n",
       "      <td>2</td>\n",
       "    </tr>\n",
       "    <tr>\n",
       "      <th>2</th>\n",
       "      <td>2</td>\n",
       "      <td>25</td>\n",
       "      <td>9600</td>\n",
       "      <td>MORTGAGE</td>\n",
       "      <td>1.0</td>\n",
       "      <td>MEDICAL</td>\n",
       "      <td>5500</td>\n",
       "      <td>12.87</td>\n",
       "      <td>1</td>\n",
       "      <td>0.57</td>\n",
       "      <td>N</td>\n",
       "      <td>3</td>\n",
       "    </tr>\n",
       "    <tr>\n",
       "      <th>3</th>\n",
       "      <td>3</td>\n",
       "      <td>23</td>\n",
       "      <td>65500</td>\n",
       "      <td>RENT</td>\n",
       "      <td>4.0</td>\n",
       "      <td>MEDICAL</td>\n",
       "      <td>35000</td>\n",
       "      <td>15.23</td>\n",
       "      <td>1</td>\n",
       "      <td>0.53</td>\n",
       "      <td>N</td>\n",
       "      <td>2</td>\n",
       "    </tr>\n",
       "    <tr>\n",
       "      <th>4</th>\n",
       "      <td>4</td>\n",
       "      <td>24</td>\n",
       "      <td>54400</td>\n",
       "      <td>RENT</td>\n",
       "      <td>8.0</td>\n",
       "      <td>MEDICAL</td>\n",
       "      <td>35000</td>\n",
       "      <td>14.27</td>\n",
       "      <td>1</td>\n",
       "      <td>0.55</td>\n",
       "      <td>Y</td>\n",
       "      <td>4</td>\n",
       "    </tr>\n",
       "  </tbody>\n",
       "</table>\n",
       "</div>"
      ],
      "text/plain": [
       "   Id  Age  Income      Home  Emp_length     Intent  Amount   Rate  Status  \\\n",
       "0   0   22   59000      RENT       123.0   PERSONAL   35000  16.02       1   \n",
       "1   1   21    9600       OWN         5.0  EDUCATION    1000  11.14       0   \n",
       "2   2   25    9600  MORTGAGE         1.0    MEDICAL    5500  12.87       1   \n",
       "3   3   23   65500      RENT         4.0    MEDICAL   35000  15.23       1   \n",
       "4   4   24   54400      RENT         8.0    MEDICAL   35000  14.27       1   \n",
       "\n",
       "   Percent_income Default  Cred_length  \n",
       "0            0.59       Y            3  \n",
       "1            0.10       N            2  \n",
       "2            0.57       N            3  \n",
       "3            0.53       N            2  \n",
       "4            0.55       Y            4  "
      ]
     },
     "execution_count": 3,
     "metadata": {},
     "output_type": "execute_result"
    }
   ],
   "source": [
    "df.head()"
   ]
  },
  {
   "cell_type": "code",
   "execution_count": 4,
   "id": "64f88555",
   "metadata": {},
   "outputs": [
    {
     "data": {
      "text/html": [
       "<div>\n",
       "<style scoped>\n",
       "    .dataframe tbody tr th:only-of-type {\n",
       "        vertical-align: middle;\n",
       "    }\n",
       "\n",
       "    .dataframe tbody tr th {\n",
       "        vertical-align: top;\n",
       "    }\n",
       "\n",
       "    .dataframe thead th {\n",
       "        text-align: right;\n",
       "    }\n",
       "</style>\n",
       "<table border=\"1\" class=\"dataframe\">\n",
       "  <thead>\n",
       "    <tr style=\"text-align: right;\">\n",
       "      <th></th>\n",
       "      <th>Id</th>\n",
       "      <th>Age</th>\n",
       "      <th>Income</th>\n",
       "      <th>Home</th>\n",
       "      <th>Emp_length</th>\n",
       "      <th>Intent</th>\n",
       "      <th>Amount</th>\n",
       "      <th>Rate</th>\n",
       "      <th>Percent_income</th>\n",
       "      <th>Default</th>\n",
       "      <th>Cred_length</th>\n",
       "      <th>Status</th>\n",
       "    </tr>\n",
       "  </thead>\n",
       "  <tbody>\n",
       "    <tr>\n",
       "      <th>0</th>\n",
       "      <td>0</td>\n",
       "      <td>22</td>\n",
       "      <td>59000</td>\n",
       "      <td>RENT</td>\n",
       "      <td>123.0</td>\n",
       "      <td>PERSONAL</td>\n",
       "      <td>35000</td>\n",
       "      <td>16.02</td>\n",
       "      <td>0.59</td>\n",
       "      <td>Y</td>\n",
       "      <td>3</td>\n",
       "      <td>1</td>\n",
       "    </tr>\n",
       "    <tr>\n",
       "      <th>1</th>\n",
       "      <td>1</td>\n",
       "      <td>21</td>\n",
       "      <td>9600</td>\n",
       "      <td>OWN</td>\n",
       "      <td>5.0</td>\n",
       "      <td>EDUCATION</td>\n",
       "      <td>1000</td>\n",
       "      <td>11.14</td>\n",
       "      <td>0.10</td>\n",
       "      <td>N</td>\n",
       "      <td>2</td>\n",
       "      <td>0</td>\n",
       "    </tr>\n",
       "    <tr>\n",
       "      <th>2</th>\n",
       "      <td>2</td>\n",
       "      <td>25</td>\n",
       "      <td>9600</td>\n",
       "      <td>MORTGAGE</td>\n",
       "      <td>1.0</td>\n",
       "      <td>MEDICAL</td>\n",
       "      <td>5500</td>\n",
       "      <td>12.87</td>\n",
       "      <td>0.57</td>\n",
       "      <td>N</td>\n",
       "      <td>3</td>\n",
       "      <td>1</td>\n",
       "    </tr>\n",
       "    <tr>\n",
       "      <th>3</th>\n",
       "      <td>3</td>\n",
       "      <td>23</td>\n",
       "      <td>65500</td>\n",
       "      <td>RENT</td>\n",
       "      <td>4.0</td>\n",
       "      <td>MEDICAL</td>\n",
       "      <td>35000</td>\n",
       "      <td>15.23</td>\n",
       "      <td>0.53</td>\n",
       "      <td>N</td>\n",
       "      <td>2</td>\n",
       "      <td>1</td>\n",
       "    </tr>\n",
       "    <tr>\n",
       "      <th>4</th>\n",
       "      <td>4</td>\n",
       "      <td>24</td>\n",
       "      <td>54400</td>\n",
       "      <td>RENT</td>\n",
       "      <td>8.0</td>\n",
       "      <td>MEDICAL</td>\n",
       "      <td>35000</td>\n",
       "      <td>14.27</td>\n",
       "      <td>0.55</td>\n",
       "      <td>Y</td>\n",
       "      <td>4</td>\n",
       "      <td>1</td>\n",
       "    </tr>\n",
       "    <tr>\n",
       "      <th>...</th>\n",
       "      <td>...</td>\n",
       "      <td>...</td>\n",
       "      <td>...</td>\n",
       "      <td>...</td>\n",
       "      <td>...</td>\n",
       "      <td>...</td>\n",
       "      <td>...</td>\n",
       "      <td>...</td>\n",
       "      <td>...</td>\n",
       "      <td>...</td>\n",
       "      <td>...</td>\n",
       "      <td>...</td>\n",
       "    </tr>\n",
       "    <tr>\n",
       "      <th>105</th>\n",
       "      <td>105</td>\n",
       "      <td>22</td>\n",
       "      <td>12600</td>\n",
       "      <td>MORTGAGE</td>\n",
       "      <td>NaN</td>\n",
       "      <td>PERSONAL</td>\n",
       "      <td>2000</td>\n",
       "      <td>5.42</td>\n",
       "      <td>0.16</td>\n",
       "      <td>N</td>\n",
       "      <td>4</td>\n",
       "      <td>1</td>\n",
       "    </tr>\n",
       "    <tr>\n",
       "      <th>106</th>\n",
       "      <td>106</td>\n",
       "      <td>25</td>\n",
       "      <td>12600</td>\n",
       "      <td>OWN</td>\n",
       "      <td>3.0</td>\n",
       "      <td>PERSONAL</td>\n",
       "      <td>1750</td>\n",
       "      <td>13.61</td>\n",
       "      <td>0.14</td>\n",
       "      <td>N</td>\n",
       "      <td>3</td>\n",
       "      <td>0</td>\n",
       "    </tr>\n",
       "    <tr>\n",
       "      <th>107</th>\n",
       "      <td>107</td>\n",
       "      <td>21</td>\n",
       "      <td>42500</td>\n",
       "      <td>RENT</td>\n",
       "      <td>3.0</td>\n",
       "      <td>EDUCATION</td>\n",
       "      <td>25000</td>\n",
       "      <td>12.73</td>\n",
       "      <td>0.59</td>\n",
       "      <td>Y</td>\n",
       "      <td>3</td>\n",
       "      <td>1</td>\n",
       "    </tr>\n",
       "    <tr>\n",
       "      <th>108</th>\n",
       "      <td>108</td>\n",
       "      <td>24</td>\n",
       "      <td>41000</td>\n",
       "      <td>RENT</td>\n",
       "      <td>2.0</td>\n",
       "      <td>HOMEIMPROVEMENT</td>\n",
       "      <td>25000</td>\n",
       "      <td>NaN</td>\n",
       "      <td>0.61</td>\n",
       "      <td>N</td>\n",
       "      <td>3</td>\n",
       "      <td>1</td>\n",
       "    </tr>\n",
       "    <tr>\n",
       "      <th>109</th>\n",
       "      <td>109</td>\n",
       "      <td>25</td>\n",
       "      <td>12816</td>\n",
       "      <td>OWN</td>\n",
       "      <td>0.0</td>\n",
       "      <td>DEBTCONSOLIDATION</td>\n",
       "      <td>3000</td>\n",
       "      <td>12.87</td>\n",
       "      <td>0.23</td>\n",
       "      <td>Y</td>\n",
       "      <td>4</td>\n",
       "      <td>1</td>\n",
       "    </tr>\n",
       "  </tbody>\n",
       "</table>\n",
       "<p>110 rows × 12 columns</p>\n",
       "</div>"
      ],
      "text/plain": [
       "      Id  Age  Income      Home  Emp_length             Intent  Amount   Rate  \\\n",
       "0      0   22   59000      RENT       123.0           PERSONAL   35000  16.02   \n",
       "1      1   21    9600       OWN         5.0          EDUCATION    1000  11.14   \n",
       "2      2   25    9600  MORTGAGE         1.0            MEDICAL    5500  12.87   \n",
       "3      3   23   65500      RENT         4.0            MEDICAL   35000  15.23   \n",
       "4      4   24   54400      RENT         8.0            MEDICAL   35000  14.27   \n",
       "..   ...  ...     ...       ...         ...                ...     ...    ...   \n",
       "105  105   22   12600  MORTGAGE         NaN           PERSONAL    2000   5.42   \n",
       "106  106   25   12600       OWN         3.0           PERSONAL    1750  13.61   \n",
       "107  107   21   42500      RENT         3.0          EDUCATION   25000  12.73   \n",
       "108  108   24   41000      RENT         2.0    HOMEIMPROVEMENT   25000    NaN   \n",
       "109  109   25   12816       OWN         0.0  DEBTCONSOLIDATION    3000  12.87   \n",
       "\n",
       "     Percent_income Default  Cred_length  Status  \n",
       "0              0.59       Y            3       1  \n",
       "1              0.10       N            2       0  \n",
       "2              0.57       N            3       1  \n",
       "3              0.53       N            2       1  \n",
       "4              0.55       Y            4       1  \n",
       "..              ...     ...          ...     ...  \n",
       "105            0.16       N            4       1  \n",
       "106            0.14       N            3       0  \n",
       "107            0.59       Y            3       1  \n",
       "108            0.61       N            3       1  \n",
       "109            0.23       Y            4       1  \n",
       "\n",
       "[110 rows x 12 columns]"
      ]
     },
     "execution_count": 4,
     "metadata": {},
     "output_type": "execute_result"
    }
   ],
   "source": [
    "data=df.reindex(columns=[\"Id\",\"Age\",\"Income\",\"Home\",\"Emp_length\",\"Intent\",\"Amount\",\"Rate\",\"Percent_income\",\"Default\",\"Cred_length\",\"Status\"])\n",
    "data.head(110)"
   ]
  },
  {
   "cell_type": "markdown",
   "id": "55b5476d",
   "metadata": {},
   "source": [
    "# Data Visualization and Analysis"
   ]
  },
  {
   "cell_type": "code",
   "execution_count": 5,
   "id": "5bc745d8",
   "metadata": {},
   "outputs": [
    {
     "data": {
      "text/plain": [
       "Status\n",
       "0         25473\n",
       "1          7108\n",
       "dtype: int64"
      ]
     },
     "execution_count": 5,
     "metadata": {},
     "output_type": "execute_result"
    }
   ],
   "source": [
    "data[[\"Status\"]].value_counts()"
   ]
  },
  {
   "cell_type": "code",
   "execution_count": 6,
   "id": "8b764cfd",
   "metadata": {},
   "outputs": [
    {
     "data": {
      "text/plain": [
       "Index(['Id', 'Age', 'Income', 'Home', 'Emp_length', 'Intent', 'Amount', 'Rate',\n",
       "       'Percent_income', 'Default', 'Cred_length', 'Status'],\n",
       "      dtype='object')"
      ]
     },
     "execution_count": 6,
     "metadata": {},
     "output_type": "execute_result"
    }
   ],
   "source": [
    "data.columns"
   ]
  },
  {
   "cell_type": "markdown",
   "id": "9bc10d2b",
   "metadata": {},
   "source": [
    "Handling Missing Data"
   ]
  },
  {
   "cell_type": "code",
   "execution_count": 7,
   "id": "e18e061d",
   "metadata": {},
   "outputs": [
    {
     "data": {
      "text/html": [
       "<div>\n",
       "<style scoped>\n",
       "    .dataframe tbody tr th:only-of-type {\n",
       "        vertical-align: middle;\n",
       "    }\n",
       "\n",
       "    .dataframe tbody tr th {\n",
       "        vertical-align: top;\n",
       "    }\n",
       "\n",
       "    .dataframe thead th {\n",
       "        text-align: right;\n",
       "    }\n",
       "</style>\n",
       "<table border=\"1\" class=\"dataframe\">\n",
       "  <thead>\n",
       "    <tr style=\"text-align: right;\">\n",
       "      <th></th>\n",
       "      <th>Id</th>\n",
       "      <th>Age</th>\n",
       "      <th>Income</th>\n",
       "      <th>Home</th>\n",
       "      <th>Emp_length</th>\n",
       "      <th>Intent</th>\n",
       "      <th>Amount</th>\n",
       "      <th>Rate</th>\n",
       "      <th>Percent_income</th>\n",
       "      <th>Default</th>\n",
       "      <th>Cred_length</th>\n",
       "      <th>Status</th>\n",
       "    </tr>\n",
       "  </thead>\n",
       "  <tbody>\n",
       "    <tr>\n",
       "      <th>0</th>\n",
       "      <td>False</td>\n",
       "      <td>False</td>\n",
       "      <td>False</td>\n",
       "      <td>False</td>\n",
       "      <td>False</td>\n",
       "      <td>False</td>\n",
       "      <td>False</td>\n",
       "      <td>False</td>\n",
       "      <td>False</td>\n",
       "      <td>False</td>\n",
       "      <td>False</td>\n",
       "      <td>False</td>\n",
       "    </tr>\n",
       "    <tr>\n",
       "      <th>1</th>\n",
       "      <td>False</td>\n",
       "      <td>False</td>\n",
       "      <td>False</td>\n",
       "      <td>False</td>\n",
       "      <td>False</td>\n",
       "      <td>False</td>\n",
       "      <td>False</td>\n",
       "      <td>False</td>\n",
       "      <td>False</td>\n",
       "      <td>False</td>\n",
       "      <td>False</td>\n",
       "      <td>False</td>\n",
       "    </tr>\n",
       "    <tr>\n",
       "      <th>2</th>\n",
       "      <td>False</td>\n",
       "      <td>False</td>\n",
       "      <td>False</td>\n",
       "      <td>False</td>\n",
       "      <td>False</td>\n",
       "      <td>False</td>\n",
       "      <td>False</td>\n",
       "      <td>False</td>\n",
       "      <td>False</td>\n",
       "      <td>False</td>\n",
       "      <td>False</td>\n",
       "      <td>False</td>\n",
       "    </tr>\n",
       "    <tr>\n",
       "      <th>3</th>\n",
       "      <td>False</td>\n",
       "      <td>False</td>\n",
       "      <td>False</td>\n",
       "      <td>False</td>\n",
       "      <td>False</td>\n",
       "      <td>False</td>\n",
       "      <td>False</td>\n",
       "      <td>False</td>\n",
       "      <td>False</td>\n",
       "      <td>False</td>\n",
       "      <td>False</td>\n",
       "      <td>False</td>\n",
       "    </tr>\n",
       "    <tr>\n",
       "      <th>4</th>\n",
       "      <td>False</td>\n",
       "      <td>False</td>\n",
       "      <td>False</td>\n",
       "      <td>False</td>\n",
       "      <td>False</td>\n",
       "      <td>False</td>\n",
       "      <td>False</td>\n",
       "      <td>False</td>\n",
       "      <td>False</td>\n",
       "      <td>False</td>\n",
       "      <td>False</td>\n",
       "      <td>False</td>\n",
       "    </tr>\n",
       "  </tbody>\n",
       "</table>\n",
       "</div>"
      ],
      "text/plain": [
       "      Id    Age  Income   Home  Emp_length  Intent  Amount   Rate  \\\n",
       "0  False  False   False  False       False   False   False  False   \n",
       "1  False  False   False  False       False   False   False  False   \n",
       "2  False  False   False  False       False   False   False  False   \n",
       "3  False  False   False  False       False   False   False  False   \n",
       "4  False  False   False  False       False   False   False  False   \n",
       "\n",
       "   Percent_income  Default  Cred_length  Status  \n",
       "0           False    False        False   False  \n",
       "1           False    False        False   False  \n",
       "2           False    False        False   False  \n",
       "3           False    False        False   False  \n",
       "4           False    False        False   False  "
      ]
     },
     "execution_count": 7,
     "metadata": {},
     "output_type": "execute_result"
    }
   ],
   "source": [
    "missing_data = data.isnull()\n",
    "missing_data.head()"
   ]
  },
  {
   "cell_type": "code",
   "execution_count": 8,
   "id": "1e5498ea",
   "metadata": {},
   "outputs": [
    {
     "name": "stdout",
     "output_type": "stream",
     "text": [
      "Id\n",
      "False    32581\n",
      "Name: Id, dtype: int64\n",
      "\n",
      "Age\n",
      "False    32581\n",
      "Name: Age, dtype: int64\n",
      "\n",
      "Income\n",
      "False    32581\n",
      "Name: Income, dtype: int64\n",
      "\n",
      "Home\n",
      "False    32581\n",
      "Name: Home, dtype: int64\n",
      "\n",
      "Emp_length\n",
      "False    31686\n",
      "True       895\n",
      "Name: Emp_length, dtype: int64\n",
      "\n",
      "Intent\n",
      "False    32581\n",
      "Name: Intent, dtype: int64\n",
      "\n",
      "Amount\n",
      "False    32581\n",
      "Name: Amount, dtype: int64\n",
      "\n",
      "Rate\n",
      "False    29465\n",
      "True      3116\n",
      "Name: Rate, dtype: int64\n",
      "\n",
      "Percent_income\n",
      "False    32581\n",
      "Name: Percent_income, dtype: int64\n",
      "\n",
      "Default\n",
      "False    32581\n",
      "Name: Default, dtype: int64\n",
      "\n",
      "Cred_length\n",
      "False    32581\n",
      "Name: Cred_length, dtype: int64\n",
      "\n",
      "Status\n",
      "False    32581\n",
      "Name: Status, dtype: int64\n",
      "\n"
     ]
    }
   ],
   "source": [
    "for column in missing_data.columns.values.tolist():\n",
    "    print(column)\n",
    "    print (missing_data[column].value_counts())\n",
    "    print(\"\") "
   ]
  },
  {
   "cell_type": "code",
   "execution_count": 9,
   "id": "93c32ac9",
   "metadata": {},
   "outputs": [
    {
     "data": {
      "text/plain": [
       "Id                   0\n",
       "Age                  0\n",
       "Income               0\n",
       "Home                 0\n",
       "Emp_length         895\n",
       "Intent               0\n",
       "Amount               0\n",
       "Rate              3116\n",
       "Percent_income       0\n",
       "Default              0\n",
       "Cred_length          0\n",
       "Status               0\n",
       "dtype: int64"
      ]
     },
     "execution_count": 9,
     "metadata": {},
     "output_type": "execute_result"
    }
   ],
   "source": [
    "missing_values_count = data.isnull().sum()\n",
    "missing_values_count"
   ]
  },
  {
   "cell_type": "code",
   "execution_count": 10,
   "id": "b9dca4b2",
   "metadata": {},
   "outputs": [
    {
     "data": {
      "text/plain": [
       "1.025904668364998"
      ]
     },
     "execution_count": 10,
     "metadata": {},
     "output_type": "execute_result"
    }
   ],
   "source": [
    "total_cells = np.product(data.shape)\n",
    "total_missing = missing_values_count.sum()\n",
    "\n",
    "percent_missing = (total_missing/total_cells) * 100\n",
    "percent_missing"
   ]
  },
  {
   "cell_type": "code",
   "execution_count": 11,
   "id": "2e874f4d",
   "metadata": {},
   "outputs": [
    {
     "name": "stdout",
     "output_type": "stream",
     "text": [
      "Average of Rate: 11.011694892245036\n"
     ]
    }
   ],
   "source": [
    "avg_rate = data[\"Rate\"].astype(\"float\").mean(axis=0)\n",
    "print(\"Average of Rate:\", avg_rate)"
   ]
  },
  {
   "cell_type": "code",
   "execution_count": 12,
   "id": "d358c81d",
   "metadata": {},
   "outputs": [],
   "source": [
    "data[\"Rate\"].replace(np.nan, avg_rate, inplace=True)"
   ]
  },
  {
   "cell_type": "code",
   "execution_count": 13,
   "id": "337bd114",
   "metadata": {},
   "outputs": [
    {
     "name": "stdout",
     "output_type": "stream",
     "text": [
      "Average of Emp_length: 4.789686296787225\n"
     ]
    }
   ],
   "source": [
    "avg_emp_length = data[\"Emp_length\"].astype(\"float\").mean(axis=0)\n",
    "print(\"Average of Emp_length:\", avg_emp_length)"
   ]
  },
  {
   "cell_type": "code",
   "execution_count": 14,
   "id": "f5d38e23",
   "metadata": {},
   "outputs": [],
   "source": [
    "data[\"Emp_length\"].replace(np.nan, avg_emp_length, inplace=True)"
   ]
  },
  {
   "cell_type": "code",
   "execution_count": 15,
   "id": "2382c86f",
   "metadata": {},
   "outputs": [
    {
     "data": {
      "text/html": [
       "<div>\n",
       "<style scoped>\n",
       "    .dataframe tbody tr th:only-of-type {\n",
       "        vertical-align: middle;\n",
       "    }\n",
       "\n",
       "    .dataframe tbody tr th {\n",
       "        vertical-align: top;\n",
       "    }\n",
       "\n",
       "    .dataframe thead th {\n",
       "        text-align: right;\n",
       "    }\n",
       "</style>\n",
       "<table border=\"1\" class=\"dataframe\">\n",
       "  <thead>\n",
       "    <tr style=\"text-align: right;\">\n",
       "      <th></th>\n",
       "      <th>Id</th>\n",
       "      <th>Age</th>\n",
       "      <th>Income</th>\n",
       "      <th>Home</th>\n",
       "      <th>Emp_length</th>\n",
       "      <th>Intent</th>\n",
       "      <th>Amount</th>\n",
       "      <th>Rate</th>\n",
       "      <th>Percent_income</th>\n",
       "      <th>Default</th>\n",
       "      <th>Cred_length</th>\n",
       "      <th>Status</th>\n",
       "    </tr>\n",
       "  </thead>\n",
       "  <tbody>\n",
       "    <tr>\n",
       "      <th>0</th>\n",
       "      <td>0</td>\n",
       "      <td>22</td>\n",
       "      <td>59000</td>\n",
       "      <td>RENT</td>\n",
       "      <td>123.000000</td>\n",
       "      <td>PERSONAL</td>\n",
       "      <td>35000</td>\n",
       "      <td>16.020000</td>\n",
       "      <td>0.59</td>\n",
       "      <td>Y</td>\n",
       "      <td>3</td>\n",
       "      <td>1</td>\n",
       "    </tr>\n",
       "    <tr>\n",
       "      <th>1</th>\n",
       "      <td>1</td>\n",
       "      <td>21</td>\n",
       "      <td>9600</td>\n",
       "      <td>OWN</td>\n",
       "      <td>5.000000</td>\n",
       "      <td>EDUCATION</td>\n",
       "      <td>1000</td>\n",
       "      <td>11.140000</td>\n",
       "      <td>0.10</td>\n",
       "      <td>N</td>\n",
       "      <td>2</td>\n",
       "      <td>0</td>\n",
       "    </tr>\n",
       "    <tr>\n",
       "      <th>2</th>\n",
       "      <td>2</td>\n",
       "      <td>25</td>\n",
       "      <td>9600</td>\n",
       "      <td>MORTGAGE</td>\n",
       "      <td>1.000000</td>\n",
       "      <td>MEDICAL</td>\n",
       "      <td>5500</td>\n",
       "      <td>12.870000</td>\n",
       "      <td>0.57</td>\n",
       "      <td>N</td>\n",
       "      <td>3</td>\n",
       "      <td>1</td>\n",
       "    </tr>\n",
       "    <tr>\n",
       "      <th>3</th>\n",
       "      <td>3</td>\n",
       "      <td>23</td>\n",
       "      <td>65500</td>\n",
       "      <td>RENT</td>\n",
       "      <td>4.000000</td>\n",
       "      <td>MEDICAL</td>\n",
       "      <td>35000</td>\n",
       "      <td>15.230000</td>\n",
       "      <td>0.53</td>\n",
       "      <td>N</td>\n",
       "      <td>2</td>\n",
       "      <td>1</td>\n",
       "    </tr>\n",
       "    <tr>\n",
       "      <th>4</th>\n",
       "      <td>4</td>\n",
       "      <td>24</td>\n",
       "      <td>54400</td>\n",
       "      <td>RENT</td>\n",
       "      <td>8.000000</td>\n",
       "      <td>MEDICAL</td>\n",
       "      <td>35000</td>\n",
       "      <td>14.270000</td>\n",
       "      <td>0.55</td>\n",
       "      <td>Y</td>\n",
       "      <td>4</td>\n",
       "      <td>1</td>\n",
       "    </tr>\n",
       "    <tr>\n",
       "      <th>...</th>\n",
       "      <td>...</td>\n",
       "      <td>...</td>\n",
       "      <td>...</td>\n",
       "      <td>...</td>\n",
       "      <td>...</td>\n",
       "      <td>...</td>\n",
       "      <td>...</td>\n",
       "      <td>...</td>\n",
       "      <td>...</td>\n",
       "      <td>...</td>\n",
       "      <td>...</td>\n",
       "      <td>...</td>\n",
       "    </tr>\n",
       "    <tr>\n",
       "      <th>105</th>\n",
       "      <td>105</td>\n",
       "      <td>22</td>\n",
       "      <td>12600</td>\n",
       "      <td>MORTGAGE</td>\n",
       "      <td>4.789686</td>\n",
       "      <td>PERSONAL</td>\n",
       "      <td>2000</td>\n",
       "      <td>5.420000</td>\n",
       "      <td>0.16</td>\n",
       "      <td>N</td>\n",
       "      <td>4</td>\n",
       "      <td>1</td>\n",
       "    </tr>\n",
       "    <tr>\n",
       "      <th>106</th>\n",
       "      <td>106</td>\n",
       "      <td>25</td>\n",
       "      <td>12600</td>\n",
       "      <td>OWN</td>\n",
       "      <td>3.000000</td>\n",
       "      <td>PERSONAL</td>\n",
       "      <td>1750</td>\n",
       "      <td>13.610000</td>\n",
       "      <td>0.14</td>\n",
       "      <td>N</td>\n",
       "      <td>3</td>\n",
       "      <td>0</td>\n",
       "    </tr>\n",
       "    <tr>\n",
       "      <th>107</th>\n",
       "      <td>107</td>\n",
       "      <td>21</td>\n",
       "      <td>42500</td>\n",
       "      <td>RENT</td>\n",
       "      <td>3.000000</td>\n",
       "      <td>EDUCATION</td>\n",
       "      <td>25000</td>\n",
       "      <td>12.730000</td>\n",
       "      <td>0.59</td>\n",
       "      <td>Y</td>\n",
       "      <td>3</td>\n",
       "      <td>1</td>\n",
       "    </tr>\n",
       "    <tr>\n",
       "      <th>108</th>\n",
       "      <td>108</td>\n",
       "      <td>24</td>\n",
       "      <td>41000</td>\n",
       "      <td>RENT</td>\n",
       "      <td>2.000000</td>\n",
       "      <td>HOMEIMPROVEMENT</td>\n",
       "      <td>25000</td>\n",
       "      <td>11.011695</td>\n",
       "      <td>0.61</td>\n",
       "      <td>N</td>\n",
       "      <td>3</td>\n",
       "      <td>1</td>\n",
       "    </tr>\n",
       "    <tr>\n",
       "      <th>109</th>\n",
       "      <td>109</td>\n",
       "      <td>25</td>\n",
       "      <td>12816</td>\n",
       "      <td>OWN</td>\n",
       "      <td>0.000000</td>\n",
       "      <td>DEBTCONSOLIDATION</td>\n",
       "      <td>3000</td>\n",
       "      <td>12.870000</td>\n",
       "      <td>0.23</td>\n",
       "      <td>Y</td>\n",
       "      <td>4</td>\n",
       "      <td>1</td>\n",
       "    </tr>\n",
       "  </tbody>\n",
       "</table>\n",
       "<p>110 rows × 12 columns</p>\n",
       "</div>"
      ],
      "text/plain": [
       "      Id  Age  Income      Home  Emp_length             Intent  Amount  \\\n",
       "0      0   22   59000      RENT  123.000000           PERSONAL   35000   \n",
       "1      1   21    9600       OWN    5.000000          EDUCATION    1000   \n",
       "2      2   25    9600  MORTGAGE    1.000000            MEDICAL    5500   \n",
       "3      3   23   65500      RENT    4.000000            MEDICAL   35000   \n",
       "4      4   24   54400      RENT    8.000000            MEDICAL   35000   \n",
       "..   ...  ...     ...       ...         ...                ...     ...   \n",
       "105  105   22   12600  MORTGAGE    4.789686           PERSONAL    2000   \n",
       "106  106   25   12600       OWN    3.000000           PERSONAL    1750   \n",
       "107  107   21   42500      RENT    3.000000          EDUCATION   25000   \n",
       "108  108   24   41000      RENT    2.000000    HOMEIMPROVEMENT   25000   \n",
       "109  109   25   12816       OWN    0.000000  DEBTCONSOLIDATION    3000   \n",
       "\n",
       "          Rate  Percent_income Default  Cred_length  Status  \n",
       "0    16.020000            0.59       Y            3       1  \n",
       "1    11.140000            0.10       N            2       0  \n",
       "2    12.870000            0.57       N            3       1  \n",
       "3    15.230000            0.53       N            2       1  \n",
       "4    14.270000            0.55       Y            4       1  \n",
       "..         ...             ...     ...          ...     ...  \n",
       "105   5.420000            0.16       N            4       1  \n",
       "106  13.610000            0.14       N            3       0  \n",
       "107  12.730000            0.59       Y            3       1  \n",
       "108  11.011695            0.61       N            3       1  \n",
       "109  12.870000            0.23       Y            4       1  \n",
       "\n",
       "[110 rows x 12 columns]"
      ]
     },
     "execution_count": 15,
     "metadata": {},
     "output_type": "execute_result"
    }
   ],
   "source": [
    "data.head(110)"
   ]
  },
  {
   "cell_type": "code",
   "execution_count": 16,
   "id": "03829033",
   "metadata": {},
   "outputs": [
    {
     "data": {
      "text/plain": [
       "Id                0\n",
       "Age               0\n",
       "Income            0\n",
       "Home              0\n",
       "Emp_length        0\n",
       "Intent            0\n",
       "Amount            0\n",
       "Rate              0\n",
       "Percent_income    0\n",
       "Default           0\n",
       "Cred_length       0\n",
       "Status            0\n",
       "dtype: int64"
      ]
     },
     "execution_count": 16,
     "metadata": {},
     "output_type": "execute_result"
    }
   ],
   "source": [
    "missing_values_count = data.isnull().sum()\n",
    "missing_values_count"
   ]
  },
  {
   "cell_type": "code",
   "execution_count": 17,
   "id": "e47102fd",
   "metadata": {},
   "outputs": [],
   "source": [
    "data.drop(columns=['Id'], inplace=True)"
   ]
  },
  {
   "cell_type": "code",
   "execution_count": 18,
   "id": "84132f6f",
   "metadata": {},
   "outputs": [
    {
     "data": {
      "text/html": [
       "<div>\n",
       "<style scoped>\n",
       "    .dataframe tbody tr th:only-of-type {\n",
       "        vertical-align: middle;\n",
       "    }\n",
       "\n",
       "    .dataframe tbody tr th {\n",
       "        vertical-align: top;\n",
       "    }\n",
       "\n",
       "    .dataframe thead th {\n",
       "        text-align: right;\n",
       "    }\n",
       "</style>\n",
       "<table border=\"1\" class=\"dataframe\">\n",
       "  <thead>\n",
       "    <tr style=\"text-align: right;\">\n",
       "      <th></th>\n",
       "      <th>Age</th>\n",
       "      <th>Income</th>\n",
       "      <th>Home</th>\n",
       "      <th>Emp_length</th>\n",
       "      <th>Intent</th>\n",
       "      <th>Amount</th>\n",
       "      <th>Rate</th>\n",
       "      <th>Percent_income</th>\n",
       "      <th>Default</th>\n",
       "      <th>Cred_length</th>\n",
       "      <th>Status</th>\n",
       "    </tr>\n",
       "  </thead>\n",
       "  <tbody>\n",
       "    <tr>\n",
       "      <th>0</th>\n",
       "      <td>22</td>\n",
       "      <td>59000</td>\n",
       "      <td>RENT</td>\n",
       "      <td>123.000000</td>\n",
       "      <td>PERSONAL</td>\n",
       "      <td>35000</td>\n",
       "      <td>16.020000</td>\n",
       "      <td>0.59</td>\n",
       "      <td>Y</td>\n",
       "      <td>3</td>\n",
       "      <td>1</td>\n",
       "    </tr>\n",
       "    <tr>\n",
       "      <th>1</th>\n",
       "      <td>21</td>\n",
       "      <td>9600</td>\n",
       "      <td>OWN</td>\n",
       "      <td>5.000000</td>\n",
       "      <td>EDUCATION</td>\n",
       "      <td>1000</td>\n",
       "      <td>11.140000</td>\n",
       "      <td>0.10</td>\n",
       "      <td>N</td>\n",
       "      <td>2</td>\n",
       "      <td>0</td>\n",
       "    </tr>\n",
       "    <tr>\n",
       "      <th>2</th>\n",
       "      <td>25</td>\n",
       "      <td>9600</td>\n",
       "      <td>MORTGAGE</td>\n",
       "      <td>1.000000</td>\n",
       "      <td>MEDICAL</td>\n",
       "      <td>5500</td>\n",
       "      <td>12.870000</td>\n",
       "      <td>0.57</td>\n",
       "      <td>N</td>\n",
       "      <td>3</td>\n",
       "      <td>1</td>\n",
       "    </tr>\n",
       "    <tr>\n",
       "      <th>3</th>\n",
       "      <td>23</td>\n",
       "      <td>65500</td>\n",
       "      <td>RENT</td>\n",
       "      <td>4.000000</td>\n",
       "      <td>MEDICAL</td>\n",
       "      <td>35000</td>\n",
       "      <td>15.230000</td>\n",
       "      <td>0.53</td>\n",
       "      <td>N</td>\n",
       "      <td>2</td>\n",
       "      <td>1</td>\n",
       "    </tr>\n",
       "    <tr>\n",
       "      <th>4</th>\n",
       "      <td>24</td>\n",
       "      <td>54400</td>\n",
       "      <td>RENT</td>\n",
       "      <td>8.000000</td>\n",
       "      <td>MEDICAL</td>\n",
       "      <td>35000</td>\n",
       "      <td>14.270000</td>\n",
       "      <td>0.55</td>\n",
       "      <td>Y</td>\n",
       "      <td>4</td>\n",
       "      <td>1</td>\n",
       "    </tr>\n",
       "    <tr>\n",
       "      <th>...</th>\n",
       "      <td>...</td>\n",
       "      <td>...</td>\n",
       "      <td>...</td>\n",
       "      <td>...</td>\n",
       "      <td>...</td>\n",
       "      <td>...</td>\n",
       "      <td>...</td>\n",
       "      <td>...</td>\n",
       "      <td>...</td>\n",
       "      <td>...</td>\n",
       "      <td>...</td>\n",
       "    </tr>\n",
       "    <tr>\n",
       "      <th>105</th>\n",
       "      <td>22</td>\n",
       "      <td>12600</td>\n",
       "      <td>MORTGAGE</td>\n",
       "      <td>4.789686</td>\n",
       "      <td>PERSONAL</td>\n",
       "      <td>2000</td>\n",
       "      <td>5.420000</td>\n",
       "      <td>0.16</td>\n",
       "      <td>N</td>\n",
       "      <td>4</td>\n",
       "      <td>1</td>\n",
       "    </tr>\n",
       "    <tr>\n",
       "      <th>106</th>\n",
       "      <td>25</td>\n",
       "      <td>12600</td>\n",
       "      <td>OWN</td>\n",
       "      <td>3.000000</td>\n",
       "      <td>PERSONAL</td>\n",
       "      <td>1750</td>\n",
       "      <td>13.610000</td>\n",
       "      <td>0.14</td>\n",
       "      <td>N</td>\n",
       "      <td>3</td>\n",
       "      <td>0</td>\n",
       "    </tr>\n",
       "    <tr>\n",
       "      <th>107</th>\n",
       "      <td>21</td>\n",
       "      <td>42500</td>\n",
       "      <td>RENT</td>\n",
       "      <td>3.000000</td>\n",
       "      <td>EDUCATION</td>\n",
       "      <td>25000</td>\n",
       "      <td>12.730000</td>\n",
       "      <td>0.59</td>\n",
       "      <td>Y</td>\n",
       "      <td>3</td>\n",
       "      <td>1</td>\n",
       "    </tr>\n",
       "    <tr>\n",
       "      <th>108</th>\n",
       "      <td>24</td>\n",
       "      <td>41000</td>\n",
       "      <td>RENT</td>\n",
       "      <td>2.000000</td>\n",
       "      <td>HOMEIMPROVEMENT</td>\n",
       "      <td>25000</td>\n",
       "      <td>11.011695</td>\n",
       "      <td>0.61</td>\n",
       "      <td>N</td>\n",
       "      <td>3</td>\n",
       "      <td>1</td>\n",
       "    </tr>\n",
       "    <tr>\n",
       "      <th>109</th>\n",
       "      <td>25</td>\n",
       "      <td>12816</td>\n",
       "      <td>OWN</td>\n",
       "      <td>0.000000</td>\n",
       "      <td>DEBTCONSOLIDATION</td>\n",
       "      <td>3000</td>\n",
       "      <td>12.870000</td>\n",
       "      <td>0.23</td>\n",
       "      <td>Y</td>\n",
       "      <td>4</td>\n",
       "      <td>1</td>\n",
       "    </tr>\n",
       "  </tbody>\n",
       "</table>\n",
       "<p>110 rows × 11 columns</p>\n",
       "</div>"
      ],
      "text/plain": [
       "     Age  Income      Home  Emp_length             Intent  Amount       Rate  \\\n",
       "0     22   59000      RENT  123.000000           PERSONAL   35000  16.020000   \n",
       "1     21    9600       OWN    5.000000          EDUCATION    1000  11.140000   \n",
       "2     25    9600  MORTGAGE    1.000000            MEDICAL    5500  12.870000   \n",
       "3     23   65500      RENT    4.000000            MEDICAL   35000  15.230000   \n",
       "4     24   54400      RENT    8.000000            MEDICAL   35000  14.270000   \n",
       "..   ...     ...       ...         ...                ...     ...        ...   \n",
       "105   22   12600  MORTGAGE    4.789686           PERSONAL    2000   5.420000   \n",
       "106   25   12600       OWN    3.000000           PERSONAL    1750  13.610000   \n",
       "107   21   42500      RENT    3.000000          EDUCATION   25000  12.730000   \n",
       "108   24   41000      RENT    2.000000    HOMEIMPROVEMENT   25000  11.011695   \n",
       "109   25   12816       OWN    0.000000  DEBTCONSOLIDATION    3000  12.870000   \n",
       "\n",
       "     Percent_income Default  Cred_length  Status  \n",
       "0              0.59       Y            3       1  \n",
       "1              0.10       N            2       0  \n",
       "2              0.57       N            3       1  \n",
       "3              0.53       N            2       1  \n",
       "4              0.55       Y            4       1  \n",
       "..              ...     ...          ...     ...  \n",
       "105            0.16       N            4       1  \n",
       "106            0.14       N            3       0  \n",
       "107            0.59       Y            3       1  \n",
       "108            0.61       N            3       1  \n",
       "109            0.23       Y            4       1  \n",
       "\n",
       "[110 rows x 11 columns]"
      ]
     },
     "execution_count": 18,
     "metadata": {},
     "output_type": "execute_result"
    }
   ],
   "source": [
    "data.head(110)"
   ]
  },
  {
   "cell_type": "code",
   "execution_count": 19,
   "id": "8a416c3d",
   "metadata": {},
   "outputs": [
    {
     "data": {
      "text/plain": [
       "Age                 int64\n",
       "Income              int64\n",
       "Home               object\n",
       "Emp_length        float64\n",
       "Intent             object\n",
       "Amount              int64\n",
       "Rate              float64\n",
       "Percent_income    float64\n",
       "Default            object\n",
       "Cred_length         int64\n",
       "Status              int64\n",
       "dtype: object"
      ]
     },
     "execution_count": 19,
     "metadata": {},
     "output_type": "execute_result"
    }
   ],
   "source": [
    "data.dtypes"
   ]
  },
  {
   "cell_type": "code",
   "execution_count": 20,
   "id": "e9b4d317",
   "metadata": {},
   "outputs": [
    {
     "data": {
      "text/html": [
       "<div>\n",
       "<style scoped>\n",
       "    .dataframe tbody tr th:only-of-type {\n",
       "        vertical-align: middle;\n",
       "    }\n",
       "\n",
       "    .dataframe tbody tr th {\n",
       "        vertical-align: top;\n",
       "    }\n",
       "\n",
       "    .dataframe thead th {\n",
       "        text-align: right;\n",
       "    }\n",
       "</style>\n",
       "<table border=\"1\" class=\"dataframe\">\n",
       "  <thead>\n",
       "    <tr style=\"text-align: right;\">\n",
       "      <th></th>\n",
       "      <th>Age</th>\n",
       "      <th>Income</th>\n",
       "      <th>Emp_length</th>\n",
       "      <th>Amount</th>\n",
       "      <th>Rate</th>\n",
       "      <th>Percent_income</th>\n",
       "      <th>Cred_length</th>\n",
       "      <th>Status</th>\n",
       "    </tr>\n",
       "  </thead>\n",
       "  <tbody>\n",
       "    <tr>\n",
       "      <th>count</th>\n",
       "      <td>32581.000000</td>\n",
       "      <td>3.258100e+04</td>\n",
       "      <td>32581.000000</td>\n",
       "      <td>32581.000000</td>\n",
       "      <td>32581.000000</td>\n",
       "      <td>32581.000000</td>\n",
       "      <td>32581.000000</td>\n",
       "      <td>32581.000000</td>\n",
       "    </tr>\n",
       "    <tr>\n",
       "      <th>mean</th>\n",
       "      <td>27.734600</td>\n",
       "      <td>6.607485e+04</td>\n",
       "      <td>4.789686</td>\n",
       "      <td>9589.371106</td>\n",
       "      <td>11.011695</td>\n",
       "      <td>0.170203</td>\n",
       "      <td>5.804211</td>\n",
       "      <td>0.218164</td>\n",
       "    </tr>\n",
       "    <tr>\n",
       "      <th>std</th>\n",
       "      <td>6.348078</td>\n",
       "      <td>6.198312e+04</td>\n",
       "      <td>4.085333</td>\n",
       "      <td>6322.086646</td>\n",
       "      <td>3.081605</td>\n",
       "      <td>0.106782</td>\n",
       "      <td>4.055001</td>\n",
       "      <td>0.413006</td>\n",
       "    </tr>\n",
       "    <tr>\n",
       "      <th>min</th>\n",
       "      <td>20.000000</td>\n",
       "      <td>4.000000e+03</td>\n",
       "      <td>0.000000</td>\n",
       "      <td>500.000000</td>\n",
       "      <td>5.420000</td>\n",
       "      <td>0.000000</td>\n",
       "      <td>2.000000</td>\n",
       "      <td>0.000000</td>\n",
       "    </tr>\n",
       "    <tr>\n",
       "      <th>25%</th>\n",
       "      <td>23.000000</td>\n",
       "      <td>3.850000e+04</td>\n",
       "      <td>2.000000</td>\n",
       "      <td>5000.000000</td>\n",
       "      <td>8.490000</td>\n",
       "      <td>0.090000</td>\n",
       "      <td>3.000000</td>\n",
       "      <td>0.000000</td>\n",
       "    </tr>\n",
       "    <tr>\n",
       "      <th>50%</th>\n",
       "      <td>26.000000</td>\n",
       "      <td>5.500000e+04</td>\n",
       "      <td>4.000000</td>\n",
       "      <td>8000.000000</td>\n",
       "      <td>11.011695</td>\n",
       "      <td>0.150000</td>\n",
       "      <td>4.000000</td>\n",
       "      <td>0.000000</td>\n",
       "    </tr>\n",
       "    <tr>\n",
       "      <th>75%</th>\n",
       "      <td>30.000000</td>\n",
       "      <td>7.920000e+04</td>\n",
       "      <td>7.000000</td>\n",
       "      <td>12200.000000</td>\n",
       "      <td>13.110000</td>\n",
       "      <td>0.230000</td>\n",
       "      <td>8.000000</td>\n",
       "      <td>0.000000</td>\n",
       "    </tr>\n",
       "    <tr>\n",
       "      <th>max</th>\n",
       "      <td>144.000000</td>\n",
       "      <td>6.000000e+06</td>\n",
       "      <td>123.000000</td>\n",
       "      <td>35000.000000</td>\n",
       "      <td>23.220000</td>\n",
       "      <td>0.830000</td>\n",
       "      <td>30.000000</td>\n",
       "      <td>1.000000</td>\n",
       "    </tr>\n",
       "  </tbody>\n",
       "</table>\n",
       "</div>"
      ],
      "text/plain": [
       "                Age        Income    Emp_length        Amount          Rate  \\\n",
       "count  32581.000000  3.258100e+04  32581.000000  32581.000000  32581.000000   \n",
       "mean      27.734600  6.607485e+04      4.789686   9589.371106     11.011695   \n",
       "std        6.348078  6.198312e+04      4.085333   6322.086646      3.081605   \n",
       "min       20.000000  4.000000e+03      0.000000    500.000000      5.420000   \n",
       "25%       23.000000  3.850000e+04      2.000000   5000.000000      8.490000   \n",
       "50%       26.000000  5.500000e+04      4.000000   8000.000000     11.011695   \n",
       "75%       30.000000  7.920000e+04      7.000000  12200.000000     13.110000   \n",
       "max      144.000000  6.000000e+06    123.000000  35000.000000     23.220000   \n",
       "\n",
       "       Percent_income   Cred_length        Status  \n",
       "count    32581.000000  32581.000000  32581.000000  \n",
       "mean         0.170203      5.804211      0.218164  \n",
       "std          0.106782      4.055001      0.413006  \n",
       "min          0.000000      2.000000      0.000000  \n",
       "25%          0.090000      3.000000      0.000000  \n",
       "50%          0.150000      4.000000      0.000000  \n",
       "75%          0.230000      8.000000      0.000000  \n",
       "max          0.830000     30.000000      1.000000  "
      ]
     },
     "execution_count": 20,
     "metadata": {},
     "output_type": "execute_result"
    }
   ],
   "source": [
    "data.describe()"
   ]
  },
  {
   "cell_type": "code",
   "execution_count": 21,
   "id": "78d7be2a",
   "metadata": {
    "scrolled": true
   },
   "outputs": [
    {
     "data": {
      "text/plain": [
       "Status\n",
       "0    25473\n",
       "1     7108\n",
       "dtype: int64"
      ]
     },
     "execution_count": 21,
     "metadata": {},
     "output_type": "execute_result"
    }
   ],
   "source": [
    "data.value_counts(\"Status\")"
   ]
  },
  {
   "cell_type": "markdown",
   "id": "f5a2fdb3",
   "metadata": {},
   "source": [
    "One Hot Encoding"
   ]
  },
  {
   "cell_type": "code",
   "execution_count": 22,
   "id": "932aa047",
   "metadata": {},
   "outputs": [
    {
     "data": {
      "text/html": [
       "<div>\n",
       "<style scoped>\n",
       "    .dataframe tbody tr th:only-of-type {\n",
       "        vertical-align: middle;\n",
       "    }\n",
       "\n",
       "    .dataframe tbody tr th {\n",
       "        vertical-align: top;\n",
       "    }\n",
       "\n",
       "    .dataframe thead th {\n",
       "        text-align: right;\n",
       "    }\n",
       "</style>\n",
       "<table border=\"1\" class=\"dataframe\">\n",
       "  <thead>\n",
       "    <tr style=\"text-align: right;\">\n",
       "      <th></th>\n",
       "      <th>Default_N</th>\n",
       "      <th>Default_Y</th>\n",
       "    </tr>\n",
       "  </thead>\n",
       "  <tbody>\n",
       "    <tr>\n",
       "      <th>0</th>\n",
       "      <td>0</td>\n",
       "      <td>1</td>\n",
       "    </tr>\n",
       "    <tr>\n",
       "      <th>1</th>\n",
       "      <td>1</td>\n",
       "      <td>0</td>\n",
       "    </tr>\n",
       "    <tr>\n",
       "      <th>2</th>\n",
       "      <td>1</td>\n",
       "      <td>0</td>\n",
       "    </tr>\n",
       "    <tr>\n",
       "      <th>3</th>\n",
       "      <td>1</td>\n",
       "      <td>0</td>\n",
       "    </tr>\n",
       "    <tr>\n",
       "      <th>4</th>\n",
       "      <td>0</td>\n",
       "      <td>1</td>\n",
       "    </tr>\n",
       "  </tbody>\n",
       "</table>\n",
       "</div>"
      ],
      "text/plain": [
       "   Default_N  Default_Y\n",
       "0          0          1\n",
       "1          1          0\n",
       "2          1          0\n",
       "3          1          0\n",
       "4          0          1"
      ]
     },
     "execution_count": 22,
     "metadata": {},
     "output_type": "execute_result"
    }
   ],
   "source": [
    "df_dumm=pd.get_dummies(data[[\"Default\"]])\n",
    "df_dumm.head()"
   ]
  },
  {
   "cell_type": "code",
   "execution_count": 23,
   "id": "8351de5a",
   "metadata": {},
   "outputs": [],
   "source": [
    "data=pd.concat([data,df_dumm],axis=1)"
   ]
  },
  {
   "cell_type": "code",
   "execution_count": 24,
   "id": "a4b1c8a8",
   "metadata": {},
   "outputs": [],
   "source": [
    "data.drop(columns=['Default_N','Default'], inplace=True)"
   ]
  },
  {
   "cell_type": "code",
   "execution_count": 25,
   "id": "230f5c3e",
   "metadata": {},
   "outputs": [
    {
     "data": {
      "text/html": [
       "<div>\n",
       "<style scoped>\n",
       "    .dataframe tbody tr th:only-of-type {\n",
       "        vertical-align: middle;\n",
       "    }\n",
       "\n",
       "    .dataframe tbody tr th {\n",
       "        vertical-align: top;\n",
       "    }\n",
       "\n",
       "    .dataframe thead th {\n",
       "        text-align: right;\n",
       "    }\n",
       "</style>\n",
       "<table border=\"1\" class=\"dataframe\">\n",
       "  <thead>\n",
       "    <tr style=\"text-align: right;\">\n",
       "      <th></th>\n",
       "      <th>Age</th>\n",
       "      <th>Income</th>\n",
       "      <th>Home</th>\n",
       "      <th>Emp_length</th>\n",
       "      <th>Intent</th>\n",
       "      <th>Amount</th>\n",
       "      <th>Rate</th>\n",
       "      <th>Percent_income</th>\n",
       "      <th>Cred_length</th>\n",
       "      <th>Status</th>\n",
       "      <th>Default_Y</th>\n",
       "    </tr>\n",
       "  </thead>\n",
       "  <tbody>\n",
       "    <tr>\n",
       "      <th>0</th>\n",
       "      <td>22</td>\n",
       "      <td>59000</td>\n",
       "      <td>RENT</td>\n",
       "      <td>123.0</td>\n",
       "      <td>PERSONAL</td>\n",
       "      <td>35000</td>\n",
       "      <td>16.02</td>\n",
       "      <td>0.59</td>\n",
       "      <td>3</td>\n",
       "      <td>1</td>\n",
       "      <td>1</td>\n",
       "    </tr>\n",
       "    <tr>\n",
       "      <th>1</th>\n",
       "      <td>21</td>\n",
       "      <td>9600</td>\n",
       "      <td>OWN</td>\n",
       "      <td>5.0</td>\n",
       "      <td>EDUCATION</td>\n",
       "      <td>1000</td>\n",
       "      <td>11.14</td>\n",
       "      <td>0.10</td>\n",
       "      <td>2</td>\n",
       "      <td>0</td>\n",
       "      <td>0</td>\n",
       "    </tr>\n",
       "    <tr>\n",
       "      <th>2</th>\n",
       "      <td>25</td>\n",
       "      <td>9600</td>\n",
       "      <td>MORTGAGE</td>\n",
       "      <td>1.0</td>\n",
       "      <td>MEDICAL</td>\n",
       "      <td>5500</td>\n",
       "      <td>12.87</td>\n",
       "      <td>0.57</td>\n",
       "      <td>3</td>\n",
       "      <td>1</td>\n",
       "      <td>0</td>\n",
       "    </tr>\n",
       "    <tr>\n",
       "      <th>3</th>\n",
       "      <td>23</td>\n",
       "      <td>65500</td>\n",
       "      <td>RENT</td>\n",
       "      <td>4.0</td>\n",
       "      <td>MEDICAL</td>\n",
       "      <td>35000</td>\n",
       "      <td>15.23</td>\n",
       "      <td>0.53</td>\n",
       "      <td>2</td>\n",
       "      <td>1</td>\n",
       "      <td>0</td>\n",
       "    </tr>\n",
       "    <tr>\n",
       "      <th>4</th>\n",
       "      <td>24</td>\n",
       "      <td>54400</td>\n",
       "      <td>RENT</td>\n",
       "      <td>8.0</td>\n",
       "      <td>MEDICAL</td>\n",
       "      <td>35000</td>\n",
       "      <td>14.27</td>\n",
       "      <td>0.55</td>\n",
       "      <td>4</td>\n",
       "      <td>1</td>\n",
       "      <td>1</td>\n",
       "    </tr>\n",
       "  </tbody>\n",
       "</table>\n",
       "</div>"
      ],
      "text/plain": [
       "   Age  Income      Home  Emp_length     Intent  Amount   Rate  \\\n",
       "0   22   59000      RENT       123.0   PERSONAL   35000  16.02   \n",
       "1   21    9600       OWN         5.0  EDUCATION    1000  11.14   \n",
       "2   25    9600  MORTGAGE         1.0    MEDICAL    5500  12.87   \n",
       "3   23   65500      RENT         4.0    MEDICAL   35000  15.23   \n",
       "4   24   54400      RENT         8.0    MEDICAL   35000  14.27   \n",
       "\n",
       "   Percent_income  Cred_length  Status  Default_Y  \n",
       "0            0.59            3       1          1  \n",
       "1            0.10            2       0          0  \n",
       "2            0.57            3       1          0  \n",
       "3            0.53            2       1          0  \n",
       "4            0.55            4       1          1  "
      ]
     },
     "execution_count": 25,
     "metadata": {},
     "output_type": "execute_result"
    }
   ],
   "source": [
    "data.head()"
   ]
  },
  {
   "cell_type": "code",
   "execution_count": 26,
   "id": "76b27a06",
   "metadata": {},
   "outputs": [
    {
     "data": {
      "text/plain": [
       "Age                 int64\n",
       "Income              int64\n",
       "Home               object\n",
       "Emp_length        float64\n",
       "Intent             object\n",
       "Amount              int64\n",
       "Rate              float64\n",
       "Percent_income    float64\n",
       "Cred_length         int64\n",
       "Status              int64\n",
       "Default_Y           uint8\n",
       "dtype: object"
      ]
     },
     "execution_count": 26,
     "metadata": {},
     "output_type": "execute_result"
    }
   ],
   "source": [
    "data.dtypes"
   ]
  },
  {
   "cell_type": "code",
   "execution_count": 27,
   "id": "467bb2d8",
   "metadata": {},
   "outputs": [],
   "source": [
    "data_1=data.reindex(columns=[\"Age\",\"Income\",\"Home\",\"Emp_length\",\"Intent\",\"Amount\",\"Rate\",\"Percent_income\",\"Default_Y\",\"Cred_length\",\"Status\"])"
   ]
  },
  {
   "cell_type": "code",
   "execution_count": 28,
   "id": "b1efcb17",
   "metadata": {},
   "outputs": [
    {
     "data": {
      "text/html": [
       "<div>\n",
       "<style scoped>\n",
       "    .dataframe tbody tr th:only-of-type {\n",
       "        vertical-align: middle;\n",
       "    }\n",
       "\n",
       "    .dataframe tbody tr th {\n",
       "        vertical-align: top;\n",
       "    }\n",
       "\n",
       "    .dataframe thead th {\n",
       "        text-align: right;\n",
       "    }\n",
       "</style>\n",
       "<table border=\"1\" class=\"dataframe\">\n",
       "  <thead>\n",
       "    <tr style=\"text-align: right;\">\n",
       "      <th></th>\n",
       "      <th>Age</th>\n",
       "      <th>Income</th>\n",
       "      <th>Home</th>\n",
       "      <th>Emp_length</th>\n",
       "      <th>Intent</th>\n",
       "      <th>Amount</th>\n",
       "      <th>Rate</th>\n",
       "      <th>Percent_income</th>\n",
       "      <th>Default_Y</th>\n",
       "      <th>Cred_length</th>\n",
       "      <th>Status</th>\n",
       "    </tr>\n",
       "  </thead>\n",
       "  <tbody>\n",
       "    <tr>\n",
       "      <th>0</th>\n",
       "      <td>22</td>\n",
       "      <td>59000</td>\n",
       "      <td>RENT</td>\n",
       "      <td>123.000000</td>\n",
       "      <td>PERSONAL</td>\n",
       "      <td>35000</td>\n",
       "      <td>16.020000</td>\n",
       "      <td>0.59</td>\n",
       "      <td>1</td>\n",
       "      <td>3</td>\n",
       "      <td>1</td>\n",
       "    </tr>\n",
       "    <tr>\n",
       "      <th>1</th>\n",
       "      <td>21</td>\n",
       "      <td>9600</td>\n",
       "      <td>OWN</td>\n",
       "      <td>5.000000</td>\n",
       "      <td>EDUCATION</td>\n",
       "      <td>1000</td>\n",
       "      <td>11.140000</td>\n",
       "      <td>0.10</td>\n",
       "      <td>0</td>\n",
       "      <td>2</td>\n",
       "      <td>0</td>\n",
       "    </tr>\n",
       "    <tr>\n",
       "      <th>2</th>\n",
       "      <td>25</td>\n",
       "      <td>9600</td>\n",
       "      <td>MORTGAGE</td>\n",
       "      <td>1.000000</td>\n",
       "      <td>MEDICAL</td>\n",
       "      <td>5500</td>\n",
       "      <td>12.870000</td>\n",
       "      <td>0.57</td>\n",
       "      <td>0</td>\n",
       "      <td>3</td>\n",
       "      <td>1</td>\n",
       "    </tr>\n",
       "    <tr>\n",
       "      <th>3</th>\n",
       "      <td>23</td>\n",
       "      <td>65500</td>\n",
       "      <td>RENT</td>\n",
       "      <td>4.000000</td>\n",
       "      <td>MEDICAL</td>\n",
       "      <td>35000</td>\n",
       "      <td>15.230000</td>\n",
       "      <td>0.53</td>\n",
       "      <td>0</td>\n",
       "      <td>2</td>\n",
       "      <td>1</td>\n",
       "    </tr>\n",
       "    <tr>\n",
       "      <th>4</th>\n",
       "      <td>24</td>\n",
       "      <td>54400</td>\n",
       "      <td>RENT</td>\n",
       "      <td>8.000000</td>\n",
       "      <td>MEDICAL</td>\n",
       "      <td>35000</td>\n",
       "      <td>14.270000</td>\n",
       "      <td>0.55</td>\n",
       "      <td>1</td>\n",
       "      <td>4</td>\n",
       "      <td>1</td>\n",
       "    </tr>\n",
       "    <tr>\n",
       "      <th>...</th>\n",
       "      <td>...</td>\n",
       "      <td>...</td>\n",
       "      <td>...</td>\n",
       "      <td>...</td>\n",
       "      <td>...</td>\n",
       "      <td>...</td>\n",
       "      <td>...</td>\n",
       "      <td>...</td>\n",
       "      <td>...</td>\n",
       "      <td>...</td>\n",
       "      <td>...</td>\n",
       "    </tr>\n",
       "    <tr>\n",
       "      <th>105</th>\n",
       "      <td>22</td>\n",
       "      <td>12600</td>\n",
       "      <td>MORTGAGE</td>\n",
       "      <td>4.789686</td>\n",
       "      <td>PERSONAL</td>\n",
       "      <td>2000</td>\n",
       "      <td>5.420000</td>\n",
       "      <td>0.16</td>\n",
       "      <td>0</td>\n",
       "      <td>4</td>\n",
       "      <td>1</td>\n",
       "    </tr>\n",
       "    <tr>\n",
       "      <th>106</th>\n",
       "      <td>25</td>\n",
       "      <td>12600</td>\n",
       "      <td>OWN</td>\n",
       "      <td>3.000000</td>\n",
       "      <td>PERSONAL</td>\n",
       "      <td>1750</td>\n",
       "      <td>13.610000</td>\n",
       "      <td>0.14</td>\n",
       "      <td>0</td>\n",
       "      <td>3</td>\n",
       "      <td>0</td>\n",
       "    </tr>\n",
       "    <tr>\n",
       "      <th>107</th>\n",
       "      <td>21</td>\n",
       "      <td>42500</td>\n",
       "      <td>RENT</td>\n",
       "      <td>3.000000</td>\n",
       "      <td>EDUCATION</td>\n",
       "      <td>25000</td>\n",
       "      <td>12.730000</td>\n",
       "      <td>0.59</td>\n",
       "      <td>1</td>\n",
       "      <td>3</td>\n",
       "      <td>1</td>\n",
       "    </tr>\n",
       "    <tr>\n",
       "      <th>108</th>\n",
       "      <td>24</td>\n",
       "      <td>41000</td>\n",
       "      <td>RENT</td>\n",
       "      <td>2.000000</td>\n",
       "      <td>HOMEIMPROVEMENT</td>\n",
       "      <td>25000</td>\n",
       "      <td>11.011695</td>\n",
       "      <td>0.61</td>\n",
       "      <td>0</td>\n",
       "      <td>3</td>\n",
       "      <td>1</td>\n",
       "    </tr>\n",
       "    <tr>\n",
       "      <th>109</th>\n",
       "      <td>25</td>\n",
       "      <td>12816</td>\n",
       "      <td>OWN</td>\n",
       "      <td>0.000000</td>\n",
       "      <td>DEBTCONSOLIDATION</td>\n",
       "      <td>3000</td>\n",
       "      <td>12.870000</td>\n",
       "      <td>0.23</td>\n",
       "      <td>1</td>\n",
       "      <td>4</td>\n",
       "      <td>1</td>\n",
       "    </tr>\n",
       "  </tbody>\n",
       "</table>\n",
       "<p>110 rows × 11 columns</p>\n",
       "</div>"
      ],
      "text/plain": [
       "     Age  Income      Home  Emp_length             Intent  Amount       Rate  \\\n",
       "0     22   59000      RENT  123.000000           PERSONAL   35000  16.020000   \n",
       "1     21    9600       OWN    5.000000          EDUCATION    1000  11.140000   \n",
       "2     25    9600  MORTGAGE    1.000000            MEDICAL    5500  12.870000   \n",
       "3     23   65500      RENT    4.000000            MEDICAL   35000  15.230000   \n",
       "4     24   54400      RENT    8.000000            MEDICAL   35000  14.270000   \n",
       "..   ...     ...       ...         ...                ...     ...        ...   \n",
       "105   22   12600  MORTGAGE    4.789686           PERSONAL    2000   5.420000   \n",
       "106   25   12600       OWN    3.000000           PERSONAL    1750  13.610000   \n",
       "107   21   42500      RENT    3.000000          EDUCATION   25000  12.730000   \n",
       "108   24   41000      RENT    2.000000    HOMEIMPROVEMENT   25000  11.011695   \n",
       "109   25   12816       OWN    0.000000  DEBTCONSOLIDATION    3000  12.870000   \n",
       "\n",
       "     Percent_income  Default_Y  Cred_length  Status  \n",
       "0              0.59          1            3       1  \n",
       "1              0.10          0            2       0  \n",
       "2              0.57          0            3       1  \n",
       "3              0.53          0            2       1  \n",
       "4              0.55          1            4       1  \n",
       "..              ...        ...          ...     ...  \n",
       "105            0.16          0            4       1  \n",
       "106            0.14          0            3       0  \n",
       "107            0.59          1            3       1  \n",
       "108            0.61          0            3       1  \n",
       "109            0.23          1            4       1  \n",
       "\n",
       "[110 rows x 11 columns]"
      ]
     },
     "execution_count": 28,
     "metadata": {},
     "output_type": "execute_result"
    }
   ],
   "source": [
    "data_1.head(110)"
   ]
  },
  {
   "cell_type": "code",
   "execution_count": 29,
   "id": "71ea0fe7",
   "metadata": {},
   "outputs": [
    {
     "data": {
      "text/html": [
       "<div>\n",
       "<style scoped>\n",
       "    .dataframe tbody tr th:only-of-type {\n",
       "        vertical-align: middle;\n",
       "    }\n",
       "\n",
       "    .dataframe tbody tr th {\n",
       "        vertical-align: top;\n",
       "    }\n",
       "\n",
       "    .dataframe thead th {\n",
       "        text-align: right;\n",
       "    }\n",
       "</style>\n",
       "<table border=\"1\" class=\"dataframe\">\n",
       "  <thead>\n",
       "    <tr style=\"text-align: right;\">\n",
       "      <th></th>\n",
       "      <th>Age</th>\n",
       "      <th>Income</th>\n",
       "      <th>Home</th>\n",
       "      <th>Emp_length</th>\n",
       "      <th>Intent</th>\n",
       "      <th>Amount</th>\n",
       "      <th>Rate</th>\n",
       "      <th>Percent_income</th>\n",
       "      <th>Default_Y</th>\n",
       "      <th>Cred_length</th>\n",
       "      <th>Status</th>\n",
       "    </tr>\n",
       "  </thead>\n",
       "  <tbody>\n",
       "    <tr>\n",
       "      <th>0</th>\n",
       "      <td>22</td>\n",
       "      <td>59000</td>\n",
       "      <td>RENT</td>\n",
       "      <td>123.0</td>\n",
       "      <td>PERSONAL</td>\n",
       "      <td>35000</td>\n",
       "      <td>16.02</td>\n",
       "      <td>0.59</td>\n",
       "      <td>1</td>\n",
       "      <td>3</td>\n",
       "      <td>1</td>\n",
       "    </tr>\n",
       "    <tr>\n",
       "      <th>1</th>\n",
       "      <td>21</td>\n",
       "      <td>9600</td>\n",
       "      <td>OWN</td>\n",
       "      <td>5.0</td>\n",
       "      <td>EDUCATION</td>\n",
       "      <td>1000</td>\n",
       "      <td>11.14</td>\n",
       "      <td>0.10</td>\n",
       "      <td>0</td>\n",
       "      <td>2</td>\n",
       "      <td>0</td>\n",
       "    </tr>\n",
       "    <tr>\n",
       "      <th>2</th>\n",
       "      <td>25</td>\n",
       "      <td>9600</td>\n",
       "      <td>MORTGAGE</td>\n",
       "      <td>1.0</td>\n",
       "      <td>MEDICAL</td>\n",
       "      <td>5500</td>\n",
       "      <td>12.87</td>\n",
       "      <td>0.57</td>\n",
       "      <td>0</td>\n",
       "      <td>3</td>\n",
       "      <td>1</td>\n",
       "    </tr>\n",
       "    <tr>\n",
       "      <th>3</th>\n",
       "      <td>23</td>\n",
       "      <td>65500</td>\n",
       "      <td>RENT</td>\n",
       "      <td>4.0</td>\n",
       "      <td>MEDICAL</td>\n",
       "      <td>35000</td>\n",
       "      <td>15.23</td>\n",
       "      <td>0.53</td>\n",
       "      <td>0</td>\n",
       "      <td>2</td>\n",
       "      <td>1</td>\n",
       "    </tr>\n",
       "    <tr>\n",
       "      <th>4</th>\n",
       "      <td>24</td>\n",
       "      <td>54400</td>\n",
       "      <td>RENT</td>\n",
       "      <td>8.0</td>\n",
       "      <td>MEDICAL</td>\n",
       "      <td>35000</td>\n",
       "      <td>14.27</td>\n",
       "      <td>0.55</td>\n",
       "      <td>1</td>\n",
       "      <td>4</td>\n",
       "      <td>1</td>\n",
       "    </tr>\n",
       "    <tr>\n",
       "      <th>...</th>\n",
       "      <td>...</td>\n",
       "      <td>...</td>\n",
       "      <td>...</td>\n",
       "      <td>...</td>\n",
       "      <td>...</td>\n",
       "      <td>...</td>\n",
       "      <td>...</td>\n",
       "      <td>...</td>\n",
       "      <td>...</td>\n",
       "      <td>...</td>\n",
       "      <td>...</td>\n",
       "    </tr>\n",
       "    <tr>\n",
       "      <th>32576</th>\n",
       "      <td>57</td>\n",
       "      <td>53000</td>\n",
       "      <td>MORTGAGE</td>\n",
       "      <td>1.0</td>\n",
       "      <td>PERSONAL</td>\n",
       "      <td>5800</td>\n",
       "      <td>13.16</td>\n",
       "      <td>0.11</td>\n",
       "      <td>0</td>\n",
       "      <td>30</td>\n",
       "      <td>0</td>\n",
       "    </tr>\n",
       "    <tr>\n",
       "      <th>32577</th>\n",
       "      <td>54</td>\n",
       "      <td>120000</td>\n",
       "      <td>MORTGAGE</td>\n",
       "      <td>4.0</td>\n",
       "      <td>PERSONAL</td>\n",
       "      <td>17625</td>\n",
       "      <td>7.49</td>\n",
       "      <td>0.15</td>\n",
       "      <td>0</td>\n",
       "      <td>19</td>\n",
       "      <td>0</td>\n",
       "    </tr>\n",
       "    <tr>\n",
       "      <th>32578</th>\n",
       "      <td>65</td>\n",
       "      <td>76000</td>\n",
       "      <td>RENT</td>\n",
       "      <td>3.0</td>\n",
       "      <td>HOMEIMPROVEMENT</td>\n",
       "      <td>35000</td>\n",
       "      <td>10.99</td>\n",
       "      <td>0.46</td>\n",
       "      <td>0</td>\n",
       "      <td>28</td>\n",
       "      <td>1</td>\n",
       "    </tr>\n",
       "    <tr>\n",
       "      <th>32579</th>\n",
       "      <td>56</td>\n",
       "      <td>150000</td>\n",
       "      <td>MORTGAGE</td>\n",
       "      <td>5.0</td>\n",
       "      <td>PERSONAL</td>\n",
       "      <td>15000</td>\n",
       "      <td>11.48</td>\n",
       "      <td>0.10</td>\n",
       "      <td>0</td>\n",
       "      <td>26</td>\n",
       "      <td>0</td>\n",
       "    </tr>\n",
       "    <tr>\n",
       "      <th>32580</th>\n",
       "      <td>66</td>\n",
       "      <td>42000</td>\n",
       "      <td>RENT</td>\n",
       "      <td>2.0</td>\n",
       "      <td>MEDICAL</td>\n",
       "      <td>6475</td>\n",
       "      <td>9.99</td>\n",
       "      <td>0.15</td>\n",
       "      <td>0</td>\n",
       "      <td>30</td>\n",
       "      <td>0</td>\n",
       "    </tr>\n",
       "  </tbody>\n",
       "</table>\n",
       "<p>32581 rows × 11 columns</p>\n",
       "</div>"
      ],
      "text/plain": [
       "       Age  Income      Home  Emp_length           Intent  Amount   Rate  \\\n",
       "0       22   59000      RENT       123.0         PERSONAL   35000  16.02   \n",
       "1       21    9600       OWN         5.0        EDUCATION    1000  11.14   \n",
       "2       25    9600  MORTGAGE         1.0          MEDICAL    5500  12.87   \n",
       "3       23   65500      RENT         4.0          MEDICAL   35000  15.23   \n",
       "4       24   54400      RENT         8.0          MEDICAL   35000  14.27   \n",
       "...    ...     ...       ...         ...              ...     ...    ...   \n",
       "32576   57   53000  MORTGAGE         1.0         PERSONAL    5800  13.16   \n",
       "32577   54  120000  MORTGAGE         4.0         PERSONAL   17625   7.49   \n",
       "32578   65   76000      RENT         3.0  HOMEIMPROVEMENT   35000  10.99   \n",
       "32579   56  150000  MORTGAGE         5.0         PERSONAL   15000  11.48   \n",
       "32580   66   42000      RENT         2.0          MEDICAL    6475   9.99   \n",
       "\n",
       "       Percent_income  Default_Y  Cred_length  Status  \n",
       "0                0.59          1            3       1  \n",
       "1                0.10          0            2       0  \n",
       "2                0.57          0            3       1  \n",
       "3                0.53          0            2       1  \n",
       "4                0.55          1            4       1  \n",
       "...               ...        ...          ...     ...  \n",
       "32576            0.11          0           30       0  \n",
       "32577            0.15          0           19       0  \n",
       "32578            0.46          0           28       1  \n",
       "32579            0.10          0           26       0  \n",
       "32580            0.15          0           30       0  \n",
       "\n",
       "[32581 rows x 11 columns]"
      ]
     },
     "execution_count": 29,
     "metadata": {},
     "output_type": "execute_result"
    }
   ],
   "source": [
    "data_1.round(2)"
   ]
  },
  {
   "cell_type": "code",
   "execution_count": 30,
   "id": "1f90e70a",
   "metadata": {},
   "outputs": [
    {
     "data": {
      "text/html": [
       "<div>\n",
       "<style scoped>\n",
       "    .dataframe tbody tr th:only-of-type {\n",
       "        vertical-align: middle;\n",
       "    }\n",
       "\n",
       "    .dataframe tbody tr th {\n",
       "        vertical-align: top;\n",
       "    }\n",
       "\n",
       "    .dataframe thead th {\n",
       "        text-align: right;\n",
       "    }\n",
       "</style>\n",
       "<table border=\"1\" class=\"dataframe\">\n",
       "  <thead>\n",
       "    <tr style=\"text-align: right;\">\n",
       "      <th></th>\n",
       "      <th>Age</th>\n",
       "      <th>Income</th>\n",
       "      <th>Home</th>\n",
       "      <th>Emp_length</th>\n",
       "      <th>Intent</th>\n",
       "      <th>Amount</th>\n",
       "      <th>Rate</th>\n",
       "      <th>Percent_income</th>\n",
       "      <th>Default_Y</th>\n",
       "      <th>Cred_length</th>\n",
       "      <th>Status</th>\n",
       "    </tr>\n",
       "  </thead>\n",
       "  <tbody>\n",
       "    <tr>\n",
       "      <th>0</th>\n",
       "      <td>22</td>\n",
       "      <td>59000</td>\n",
       "      <td>RENT</td>\n",
       "      <td>123.0</td>\n",
       "      <td>PERSONAL</td>\n",
       "      <td>35000</td>\n",
       "      <td>16.02</td>\n",
       "      <td>0.59</td>\n",
       "      <td>1</td>\n",
       "      <td>3</td>\n",
       "      <td>1</td>\n",
       "    </tr>\n",
       "    <tr>\n",
       "      <th>1</th>\n",
       "      <td>21</td>\n",
       "      <td>9600</td>\n",
       "      <td>OWN</td>\n",
       "      <td>5.0</td>\n",
       "      <td>EDUCATION</td>\n",
       "      <td>1000</td>\n",
       "      <td>11.14</td>\n",
       "      <td>0.10</td>\n",
       "      <td>0</td>\n",
       "      <td>2</td>\n",
       "      <td>0</td>\n",
       "    </tr>\n",
       "    <tr>\n",
       "      <th>2</th>\n",
       "      <td>25</td>\n",
       "      <td>9600</td>\n",
       "      <td>MORTGAGE</td>\n",
       "      <td>1.0</td>\n",
       "      <td>MEDICAL</td>\n",
       "      <td>5500</td>\n",
       "      <td>12.87</td>\n",
       "      <td>0.57</td>\n",
       "      <td>0</td>\n",
       "      <td>3</td>\n",
       "      <td>1</td>\n",
       "    </tr>\n",
       "    <tr>\n",
       "      <th>3</th>\n",
       "      <td>23</td>\n",
       "      <td>65500</td>\n",
       "      <td>RENT</td>\n",
       "      <td>4.0</td>\n",
       "      <td>MEDICAL</td>\n",
       "      <td>35000</td>\n",
       "      <td>15.23</td>\n",
       "      <td>0.53</td>\n",
       "      <td>0</td>\n",
       "      <td>2</td>\n",
       "      <td>1</td>\n",
       "    </tr>\n",
       "    <tr>\n",
       "      <th>4</th>\n",
       "      <td>24</td>\n",
       "      <td>54400</td>\n",
       "      <td>RENT</td>\n",
       "      <td>8.0</td>\n",
       "      <td>MEDICAL</td>\n",
       "      <td>35000</td>\n",
       "      <td>14.27</td>\n",
       "      <td>0.55</td>\n",
       "      <td>1</td>\n",
       "      <td>4</td>\n",
       "      <td>1</td>\n",
       "    </tr>\n",
       "  </tbody>\n",
       "</table>\n",
       "</div>"
      ],
      "text/plain": [
       "   Age  Income      Home  Emp_length     Intent  Amount   Rate  \\\n",
       "0   22   59000      RENT       123.0   PERSONAL   35000  16.02   \n",
       "1   21    9600       OWN         5.0  EDUCATION    1000  11.14   \n",
       "2   25    9600  MORTGAGE         1.0    MEDICAL    5500  12.87   \n",
       "3   23   65500      RENT         4.0    MEDICAL   35000  15.23   \n",
       "4   24   54400      RENT         8.0    MEDICAL   35000  14.27   \n",
       "\n",
       "   Percent_income  Default_Y  Cred_length  Status  \n",
       "0            0.59          1            3       1  \n",
       "1            0.10          0            2       0  \n",
       "2            0.57          0            3       1  \n",
       "3            0.53          0            2       1  \n",
       "4            0.55          1            4       1  "
      ]
     },
     "execution_count": 30,
     "metadata": {},
     "output_type": "execute_result"
    }
   ],
   "source": [
    "data_1.head()"
   ]
  },
  {
   "cell_type": "code",
   "execution_count": 31,
   "id": "71899cc8",
   "metadata": {},
   "outputs": [
    {
     "data": {
      "text/plain": [
       "<Axes: xlabel='Home', ylabel='Status'>"
      ]
     },
     "execution_count": 31,
     "metadata": {},
     "output_type": "execute_result"
    },
    {
     "data": {
      "image/png": "[encoded data removed]",
      "text/plain": [
       "<Figure size 640x480 with 1 Axes>"
      ]
     },
     "metadata": {},
     "output_type": "display_data"
    }
   ],
   "source": [
    "sns.boxplot(x=\"Home\", y=\"Status\", data=data)"
   ]
  },
  {
   "cell_type": "code",
   "execution_count": 32,
   "id": "10fa09a7",
   "metadata": {},
   "outputs": [
    {
     "data": {
      "text/plain": [
       "<Axes: xlabel='Intent', ylabel='Status'>"
      ]
     },
     "execution_count": 32,
     "metadata": {},
     "output_type": "execute_result"
    },
    {
     "data": {
      "image/png": "[encoded data removed]",
      "text/plain": [
       "<Figure size 640x480 with 1 Axes>"
      ]
     },
     "metadata": {},
     "output_type": "display_data"
    }
   ],
   "source": [
    "sns.boxplot(x=\"Intent\", y=\"Status\", data=data)"
   ]
  },
  {
   "cell_type": "code",
   "execution_count": 33,
   "id": "11b44485",
   "metadata": {},
   "outputs": [],
   "source": [
    "label_encoder_home = LabelEncoder()\n",
    "label_encoder_intent = LabelEncoder()\n",
    "\n",
    "# Encode the \"Home\" feature\n",
    "label_encoder_home.fit(data_1[\"Home\"])\n",
    "data_1[\"Home_en\"] = label_encoder_home.transform(data_1[\"Home\"])\n",
    "data_1.drop(\"Home\", axis=1, inplace=True)\n",
    "\n",
    "# Encode the \"Intent\" feature\n",
    "label_encoder_intent.fit(data_1[\"Intent\"])\n",
    "data_1[\"Intent_en\"] = label_encoder_intent.transform(data_1[\"Intent\"])\n",
    "data_1.drop(\"Intent\", axis=1, inplace=True)"
   ]
  },
  {
   "cell_type": "code",
   "execution_count": 34,
   "id": "e533d412",
   "metadata": {},
   "outputs": [
    {
     "data": {
      "text/html": [
       "<div>\n",
       "<style scoped>\n",
       "    .dataframe tbody tr th:only-of-type {\n",
       "        vertical-align: middle;\n",
       "    }\n",
       "\n",
       "    .dataframe tbody tr th {\n",
       "        vertical-align: top;\n",
       "    }\n",
       "\n",
       "    .dataframe thead th {\n",
       "        text-align: right;\n",
       "    }\n",
       "</style>\n",
       "<table border=\"1\" class=\"dataframe\">\n",
       "  <thead>\n",
       "    <tr style=\"text-align: right;\">\n",
       "      <th></th>\n",
       "      <th>Age</th>\n",
       "      <th>Income</th>\n",
       "      <th>Emp_length</th>\n",
       "      <th>Amount</th>\n",
       "      <th>Rate</th>\n",
       "      <th>Percent_income</th>\n",
       "      <th>Default_Y</th>\n",
       "      <th>Cred_length</th>\n",
       "      <th>Status</th>\n",
       "      <th>Home_en</th>\n",
       "      <th>Intent_en</th>\n",
       "    </tr>\n",
       "  </thead>\n",
       "  <tbody>\n",
       "    <tr>\n",
       "      <th>0</th>\n",
       "      <td>22</td>\n",
       "      <td>59000</td>\n",
       "      <td>123.0</td>\n",
       "      <td>35000</td>\n",
       "      <td>16.02</td>\n",
       "      <td>0.59</td>\n",
       "      <td>1</td>\n",
       "      <td>3</td>\n",
       "      <td>1</td>\n",
       "      <td>3</td>\n",
       "      <td>4</td>\n",
       "    </tr>\n",
       "    <tr>\n",
       "      <th>1</th>\n",
       "      <td>21</td>\n",
       "      <td>9600</td>\n",
       "      <td>5.0</td>\n",
       "      <td>1000</td>\n",
       "      <td>11.14</td>\n",
       "      <td>0.10</td>\n",
       "      <td>0</td>\n",
       "      <td>2</td>\n",
       "      <td>0</td>\n",
       "      <td>2</td>\n",
       "      <td>1</td>\n",
       "    </tr>\n",
       "    <tr>\n",
       "      <th>2</th>\n",
       "      <td>25</td>\n",
       "      <td>9600</td>\n",
       "      <td>1.0</td>\n",
       "      <td>5500</td>\n",
       "      <td>12.87</td>\n",
       "      <td>0.57</td>\n",
       "      <td>0</td>\n",
       "      <td>3</td>\n",
       "      <td>1</td>\n",
       "      <td>0</td>\n",
       "      <td>3</td>\n",
       "    </tr>\n",
       "    <tr>\n",
       "      <th>3</th>\n",
       "      <td>23</td>\n",
       "      <td>65500</td>\n",
       "      <td>4.0</td>\n",
       "      <td>35000</td>\n",
       "      <td>15.23</td>\n",
       "      <td>0.53</td>\n",
       "      <td>0</td>\n",
       "      <td>2</td>\n",
       "      <td>1</td>\n",
       "      <td>3</td>\n",
       "      <td>3</td>\n",
       "    </tr>\n",
       "    <tr>\n",
       "      <th>4</th>\n",
       "      <td>24</td>\n",
       "      <td>54400</td>\n",
       "      <td>8.0</td>\n",
       "      <td>35000</td>\n",
       "      <td>14.27</td>\n",
       "      <td>0.55</td>\n",
       "      <td>1</td>\n",
       "      <td>4</td>\n",
       "      <td>1</td>\n",
       "      <td>3</td>\n",
       "      <td>3</td>\n",
       "    </tr>\n",
       "  </tbody>\n",
       "</table>\n",
       "</div>"
      ],
      "text/plain": [
       "   Age  Income  Emp_length  Amount   Rate  Percent_income  Default_Y  \\\n",
       "0   22   59000       123.0   35000  16.02            0.59          1   \n",
       "1   21    9600         5.0    1000  11.14            0.10          0   \n",
       "2   25    9600         1.0    5500  12.87            0.57          0   \n",
       "3   23   65500         4.0   35000  15.23            0.53          0   \n",
       "4   24   54400         8.0   35000  14.27            0.55          1   \n",
       "\n",
       "   Cred_length  Status  Home_en  Intent_en  \n",
       "0            3       1        3          4  \n",
       "1            2       0        2          1  \n",
       "2            3       1        0          3  \n",
       "3            2       1        3          3  \n",
       "4            4       1        3          3  "
      ]
     },
     "execution_count": 34,
     "metadata": {},
     "output_type": "execute_result"
    }
   ],
   "source": [
    "data_1.head()"
   ]
  },
  {
   "cell_type": "code",
   "execution_count": 35,
   "id": "db02f572",
   "metadata": {},
   "outputs": [],
   "source": [
    "data_12=data_1.reindex(columns=[\"Age\",\"Income\",\"Home_en\",\"Emp_length\",\"Intent_en\",\"Amount\",\"Rate\",\"Percent_income\",\"Default_Y\",\"Cred_length\",\"Status\"])"
   ]
  },
  {
   "cell_type": "code",
   "execution_count": 36,
   "id": "acdaa17f",
   "metadata": {},
   "outputs": [
    {
     "data": {
      "text/html": [
       "<div>\n",
       "<style scoped>\n",
       "    .dataframe tbody tr th:only-of-type {\n",
       "        vertical-align: middle;\n",
       "    }\n",
       "\n",
       "    .dataframe tbody tr th {\n",
       "        vertical-align: top;\n",
       "    }\n",
       "\n",
       "    .dataframe thead th {\n",
       "        text-align: right;\n",
       "    }\n",
       "</style>\n",
       "<table border=\"1\" class=\"dataframe\">\n",
       "  <thead>\n",
       "    <tr style=\"text-align: right;\">\n",
       "      <th></th>\n",
       "      <th>Age</th>\n",
       "      <th>Income</th>\n",
       "      <th>Home_en</th>\n",
       "      <th>Emp_length</th>\n",
       "      <th>Intent_en</th>\n",
       "      <th>Amount</th>\n",
       "      <th>Rate</th>\n",
       "      <th>Percent_income</th>\n",
       "      <th>Default_Y</th>\n",
       "      <th>Cred_length</th>\n",
       "      <th>Status</th>\n",
       "    </tr>\n",
       "  </thead>\n",
       "  <tbody>\n",
       "    <tr>\n",
       "      <th>0</th>\n",
       "      <td>22</td>\n",
       "      <td>59000</td>\n",
       "      <td>3</td>\n",
       "      <td>123.0</td>\n",
       "      <td>4</td>\n",
       "      <td>35000</td>\n",
       "      <td>16.02</td>\n",
       "      <td>0.59</td>\n",
       "      <td>1</td>\n",
       "      <td>3</td>\n",
       "      <td>1</td>\n",
       "    </tr>\n",
       "    <tr>\n",
       "      <th>1</th>\n",
       "      <td>21</td>\n",
       "      <td>9600</td>\n",
       "      <td>2</td>\n",
       "      <td>5.0</td>\n",
       "      <td>1</td>\n",
       "      <td>1000</td>\n",
       "      <td>11.14</td>\n",
       "      <td>0.10</td>\n",
       "      <td>0</td>\n",
       "      <td>2</td>\n",
       "      <td>0</td>\n",
       "    </tr>\n",
       "    <tr>\n",
       "      <th>2</th>\n",
       "      <td>25</td>\n",
       "      <td>9600</td>\n",
       "      <td>0</td>\n",
       "      <td>1.0</td>\n",
       "      <td>3</td>\n",
       "      <td>5500</td>\n",
       "      <td>12.87</td>\n",
       "      <td>0.57</td>\n",
       "      <td>0</td>\n",
       "      <td>3</td>\n",
       "      <td>1</td>\n",
       "    </tr>\n",
       "    <tr>\n",
       "      <th>3</th>\n",
       "      <td>23</td>\n",
       "      <td>65500</td>\n",
       "      <td>3</td>\n",
       "      <td>4.0</td>\n",
       "      <td>3</td>\n",
       "      <td>35000</td>\n",
       "      <td>15.23</td>\n",
       "      <td>0.53</td>\n",
       "      <td>0</td>\n",
       "      <td>2</td>\n",
       "      <td>1</td>\n",
       "    </tr>\n",
       "    <tr>\n",
       "      <th>4</th>\n",
       "      <td>24</td>\n",
       "      <td>54400</td>\n",
       "      <td>3</td>\n",
       "      <td>8.0</td>\n",
       "      <td>3</td>\n",
       "      <td>35000</td>\n",
       "      <td>14.27</td>\n",
       "      <td>0.55</td>\n",
       "      <td>1</td>\n",
       "      <td>4</td>\n",
       "      <td>1</td>\n",
       "    </tr>\n",
       "    <tr>\n",
       "      <th>...</th>\n",
       "      <td>...</td>\n",
       "      <td>...</td>\n",
       "      <td>...</td>\n",
       "      <td>...</td>\n",
       "      <td>...</td>\n",
       "      <td>...</td>\n",
       "      <td>...</td>\n",
       "      <td>...</td>\n",
       "      <td>...</td>\n",
       "      <td>...</td>\n",
       "      <td>...</td>\n",
       "    </tr>\n",
       "    <tr>\n",
       "      <th>32576</th>\n",
       "      <td>57</td>\n",
       "      <td>53000</td>\n",
       "      <td>0</td>\n",
       "      <td>1.0</td>\n",
       "      <td>4</td>\n",
       "      <td>5800</td>\n",
       "      <td>13.16</td>\n",
       "      <td>0.11</td>\n",
       "      <td>0</td>\n",
       "      <td>30</td>\n",
       "      <td>0</td>\n",
       "    </tr>\n",
       "    <tr>\n",
       "      <th>32577</th>\n",
       "      <td>54</td>\n",
       "      <td>120000</td>\n",
       "      <td>0</td>\n",
       "      <td>4.0</td>\n",
       "      <td>4</td>\n",
       "      <td>17625</td>\n",
       "      <td>7.49</td>\n",
       "      <td>0.15</td>\n",
       "      <td>0</td>\n",
       "      <td>19</td>\n",
       "      <td>0</td>\n",
       "    </tr>\n",
       "    <tr>\n",
       "      <th>32578</th>\n",
       "      <td>65</td>\n",
       "      <td>76000</td>\n",
       "      <td>3</td>\n",
       "      <td>3.0</td>\n",
       "      <td>2</td>\n",
       "      <td>35000</td>\n",
       "      <td>10.99</td>\n",
       "      <td>0.46</td>\n",
       "      <td>0</td>\n",
       "      <td>28</td>\n",
       "      <td>1</td>\n",
       "    </tr>\n",
       "    <tr>\n",
       "      <th>32579</th>\n",
       "      <td>56</td>\n",
       "      <td>150000</td>\n",
       "      <td>0</td>\n",
       "      <td>5.0</td>\n",
       "      <td>4</td>\n",
       "      <td>15000</td>\n",
       "      <td>11.48</td>\n",
       "      <td>0.10</td>\n",
       "      <td>0</td>\n",
       "      <td>26</td>\n",
       "      <td>0</td>\n",
       "    </tr>\n",
       "    <tr>\n",
       "      <th>32580</th>\n",
       "      <td>66</td>\n",
       "      <td>42000</td>\n",
       "      <td>3</td>\n",
       "      <td>2.0</td>\n",
       "      <td>3</td>\n",
       "      <td>6475</td>\n",
       "      <td>9.99</td>\n",
       "      <td>0.15</td>\n",
       "      <td>0</td>\n",
       "      <td>30</td>\n",
       "      <td>0</td>\n",
       "    </tr>\n",
       "  </tbody>\n",
       "</table>\n",
       "<p>32581 rows × 11 columns</p>\n",
       "</div>"
      ],
      "text/plain": [
       "       Age  Income  Home_en  Emp_length  Intent_en  Amount   Rate  \\\n",
       "0       22   59000        3       123.0          4   35000  16.02   \n",
       "1       21    9600        2         5.0          1    1000  11.14   \n",
       "2       25    9600        0         1.0          3    5500  12.87   \n",
       "3       23   65500        3         4.0          3   35000  15.23   \n",
       "4       24   54400        3         8.0          3   35000  14.27   \n",
       "...    ...     ...      ...         ...        ...     ...    ...   \n",
       "32576   57   53000        0         1.0          4    5800  13.16   \n",
       "32577   54  120000        0         4.0          4   17625   7.49   \n",
       "32578   65   76000        3         3.0          2   35000  10.99   \n",
       "32579   56  150000        0         5.0          4   15000  11.48   \n",
       "32580   66   42000        3         2.0          3    6475   9.99   \n",
       "\n",
       "       Percent_income  Default_Y  Cred_length  Status  \n",
       "0                0.59          1            3       1  \n",
       "1                0.10          0            2       0  \n",
       "2                0.57          0            3       1  \n",
       "3                0.53          0            2       1  \n",
       "4                0.55          1            4       1  \n",
       "...               ...        ...          ...     ...  \n",
       "32576            0.11          0           30       0  \n",
       "32577            0.15          0           19       0  \n",
       "32578            0.46          0           28       1  \n",
       "32579            0.10          0           26       0  \n",
       "32580            0.15          0           30       0  \n",
       "\n",
       "[32581 rows x 11 columns]"
      ]
     },
     "execution_count": 36,
     "metadata": {},
     "output_type": "execute_result"
    }
   ],
   "source": [
    "data_12.round(2)"
   ]
  },
  {
   "cell_type": "code",
   "execution_count": 37,
   "id": "37b3ea88",
   "metadata": {},
   "outputs": [
    {
     "data": {
      "text/html": [
       "<div>\n",
       "<style scoped>\n",
       "    .dataframe tbody tr th:only-of-type {\n",
       "        vertical-align: middle;\n",
       "    }\n",
       "\n",
       "    .dataframe tbody tr th {\n",
       "        vertical-align: top;\n",
       "    }\n",
       "\n",
       "    .dataframe thead th {\n",
       "        text-align: right;\n",
       "    }\n",
       "</style>\n",
       "<table border=\"1\" class=\"dataframe\">\n",
       "  <thead>\n",
       "    <tr style=\"text-align: right;\">\n",
       "      <th></th>\n",
       "      <th>Age</th>\n",
       "      <th>Income</th>\n",
       "      <th>Home_en</th>\n",
       "      <th>Emp_length</th>\n",
       "      <th>Intent_en</th>\n",
       "      <th>Amount</th>\n",
       "      <th>Rate</th>\n",
       "      <th>Percent_income</th>\n",
       "      <th>Default_Y</th>\n",
       "      <th>Cred_length</th>\n",
       "      <th>Status</th>\n",
       "    </tr>\n",
       "  </thead>\n",
       "  <tbody>\n",
       "    <tr>\n",
       "      <th>0</th>\n",
       "      <td>22</td>\n",
       "      <td>59000</td>\n",
       "      <td>3</td>\n",
       "      <td>123.0</td>\n",
       "      <td>4</td>\n",
       "      <td>35000</td>\n",
       "      <td>16.02</td>\n",
       "      <td>0.59</td>\n",
       "      <td>1</td>\n",
       "      <td>3</td>\n",
       "      <td>1</td>\n",
       "    </tr>\n",
       "    <tr>\n",
       "      <th>1</th>\n",
       "      <td>21</td>\n",
       "      <td>9600</td>\n",
       "      <td>2</td>\n",
       "      <td>5.0</td>\n",
       "      <td>1</td>\n",
       "      <td>1000</td>\n",
       "      <td>11.14</td>\n",
       "      <td>0.10</td>\n",
       "      <td>0</td>\n",
       "      <td>2</td>\n",
       "      <td>0</td>\n",
       "    </tr>\n",
       "    <tr>\n",
       "      <th>2</th>\n",
       "      <td>25</td>\n",
       "      <td>9600</td>\n",
       "      <td>0</td>\n",
       "      <td>1.0</td>\n",
       "      <td>3</td>\n",
       "      <td>5500</td>\n",
       "      <td>12.87</td>\n",
       "      <td>0.57</td>\n",
       "      <td>0</td>\n",
       "      <td>3</td>\n",
       "      <td>1</td>\n",
       "    </tr>\n",
       "    <tr>\n",
       "      <th>3</th>\n",
       "      <td>23</td>\n",
       "      <td>65500</td>\n",
       "      <td>3</td>\n",
       "      <td>4.0</td>\n",
       "      <td>3</td>\n",
       "      <td>35000</td>\n",
       "      <td>15.23</td>\n",
       "      <td>0.53</td>\n",
       "      <td>0</td>\n",
       "      <td>2</td>\n",
       "      <td>1</td>\n",
       "    </tr>\n",
       "    <tr>\n",
       "      <th>4</th>\n",
       "      <td>24</td>\n",
       "      <td>54400</td>\n",
       "      <td>3</td>\n",
       "      <td>8.0</td>\n",
       "      <td>3</td>\n",
       "      <td>35000</td>\n",
       "      <td>14.27</td>\n",
       "      <td>0.55</td>\n",
       "      <td>1</td>\n",
       "      <td>4</td>\n",
       "      <td>1</td>\n",
       "    </tr>\n",
       "  </tbody>\n",
       "</table>\n",
       "</div>"
      ],
      "text/plain": [
       "   Age  Income  Home_en  Emp_length  Intent_en  Amount   Rate  Percent_income  \\\n",
       "0   22   59000        3       123.0          4   35000  16.02            0.59   \n",
       "1   21    9600        2         5.0          1    1000  11.14            0.10   \n",
       "2   25    9600        0         1.0          3    5500  12.87            0.57   \n",
       "3   23   65500        3         4.0          3   35000  15.23            0.53   \n",
       "4   24   54400        3         8.0          3   35000  14.27            0.55   \n",
       "\n",
       "   Default_Y  Cred_length  Status  \n",
       "0          1            3       1  \n",
       "1          0            2       0  \n",
       "2          0            3       1  \n",
       "3          0            2       1  \n",
       "4          1            4       1  "
      ]
     },
     "execution_count": 37,
     "metadata": {},
     "output_type": "execute_result"
    }
   ],
   "source": [
    "data_12.head()"
   ]
  },
  {
   "cell_type": "markdown",
   "id": "dbfb44de",
   "metadata": {},
   "source": [
    "Imbalance Data Handling"
   ]
  },
  {
   "cell_type": "code",
   "execution_count": 38,
   "id": "435783b5",
   "metadata": {},
   "outputs": [
    {
     "data": {
      "text/plain": [
       "Status\n",
       "0    25473\n",
       "1     7108\n",
       "dtype: int64"
      ]
     },
     "execution_count": 38,
     "metadata": {},
     "output_type": "execute_result"
    }
   ],
   "source": [
    "data_12.value_counts(\"Status\")"
   ]
  },
  {
   "cell_type": "code",
   "execution_count": 39,
   "id": "4cdc04b7",
   "metadata": {},
   "outputs": [],
   "source": [
    "x=data_12.iloc[:,:10]\n",
    "y=data_12.iloc[:,10]"
   ]
  },
  {
   "cell_type": "code",
   "execution_count": 40,
   "id": "85e96bd9",
   "metadata": {},
   "outputs": [],
   "source": [
    "smt=SMOTE()"
   ]
  },
  {
   "cell_type": "code",
   "execution_count": 41,
   "id": "abdeb822",
   "metadata": {},
   "outputs": [],
   "source": [
    "x_sm,y_sm=smt.fit_resample(x,y)"
   ]
  },
  {
   "cell_type": "code",
   "execution_count": 42,
   "id": "639bea25",
   "metadata": {},
   "outputs": [
    {
     "data": {
      "text/plain": [
       "1    25473\n",
       "0    25473\n",
       "Name: Status, dtype: int64"
      ]
     },
     "execution_count": 42,
     "metadata": {},
     "output_type": "execute_result"
    }
   ],
   "source": [
    "y_sm.value_counts()"
   ]
  },
  {
   "cell_type": "code",
   "execution_count": 43,
   "id": "846368ad",
   "metadata": {},
   "outputs": [
    {
     "data": {
      "text/plain": [
       "(50946, 10)"
      ]
     },
     "execution_count": 43,
     "metadata": {},
     "output_type": "execute_result"
    }
   ],
   "source": [
    "x_sm.shape"
   ]
  },
  {
   "cell_type": "code",
   "execution_count": 44,
   "id": "68021fd4",
   "metadata": {},
   "outputs": [
    {
     "data": {
      "text/plain": [
       "(50946,)"
      ]
     },
     "execution_count": 44,
     "metadata": {},
     "output_type": "execute_result"
    }
   ],
   "source": [
    "y_sm.shape"
   ]
  },
  {
   "cell_type": "code",
   "execution_count": 45,
   "id": "929b38e4",
   "metadata": {},
   "outputs": [],
   "source": [
    "# from imblearn.over_sampling import SMOTE\n",
    "# import pandas as pd\n",
    "\n",
    "# # Assuming data_12 is your original DataFrame\n",
    "# x = data_12.iloc[:, :10]\n",
    "# y = data_12.iloc[:, 10]\n",
    "\n",
    "# # Apply SMOTE to balance the data\n",
    "# smt = SMOTE()\n",
    "# x_sm, y_sm = smt.fit_resample(x, y)\n",
    "\n",
    "# # Convert the newly generated data to a DataFrame\n",
    "# new_data = pd.DataFrame(x_sm, columns=x.columns)\n",
    "# new_data[\"target_variable\"] = y_sm\n",
    "\n",
    "# # Concatenate the new data with the original DataFrame\n",
    "# data_12_balanced = pd.concat([data_12, new_data], ignore_index=True)\n",
    "\n",
    "# # Now data_12_balanced contains the original data plus the newly generated data\n"
   ]
  },
  {
   "cell_type": "code",
   "execution_count": 46,
   "id": "0d7d9275",
   "metadata": {},
   "outputs": [],
   "source": [
    "X=x_sm.values\n",
    "y=y_sm.values"
   ]
  },
  {
   "cell_type": "markdown",
   "id": "bc344ab6",
   "metadata": {},
   "source": [
    "Train Test Split"
   ]
  },
  {
   "cell_type": "code",
   "execution_count": 47,
   "id": "1ab01247",
   "metadata": {},
   "outputs": [],
   "source": [
    "X_train, X_test, y_train, y_test = train_test_split( X, y, test_size=0.2, random_state=0)"
   ]
  },
  {
   "cell_type": "code",
   "execution_count": 48,
   "id": "a3ce0ffe",
   "metadata": {},
   "outputs": [],
   "source": [
    "X_features=[\"Age\",\"Income\",\"Home_en\",\"Emp_length\",\"Intent_en\",\"Amount\",\"Rate\",\"Percent_income\",\"Default_Y\",\"Cred_length\"]"
   ]
  },
  {
   "cell_type": "markdown",
   "id": "6fbe7bf0",
   "metadata": {},
   "source": [
    "Normalize Data"
   ]
  },
  {
   "cell_type": "code",
   "execution_count": 49,
   "id": "e2698442",
   "metadata": {},
   "outputs": [],
   "source": [
    "X_train_norm = preprocessing.StandardScaler().fit(X_train).transform(X_train.astype(float))"
   ]
  },
  {
   "cell_type": "code",
   "execution_count": 50,
   "id": "aefd0a3d",
   "metadata": {},
   "outputs": [
    {
     "data": {
      "text/plain": [
       "array([[ 5.95703631e-01,  3.26213320e-01,  8.56852572e-01,\n",
       "        -6.74897337e-01, -8.03934744e-01, -1.48328102e-02,\n",
       "        -8.85494383e-02, -5.57617573e-01,  2.38263156e+00,\n",
       "         6.35352837e-01],\n",
       "       [-5.72791795e-01, -7.50838602e-01, -1.33875582e+00,\n",
       "        -1.20625103e+00, -1.41328113e+00, -1.48328102e-02,\n",
       "        -1.40753904e-03,  2.96522992e+00, -4.19704001e-01,\n",
       "        -9.33531758e-01],\n",
       "       [ 2.61847795e-01,  3.38603049e-01, -1.33875582e+00,\n",
       "         6.62577157e-02, -1.41328113e+00, -3.13001806e-01,\n",
       "        -2.02482617e+00, -8.03397630e-01, -4.19704001e-01,\n",
       "        -1.49089460e-01],\n",
       "       [-2.38935959e-01,  4.06248119e-01, -1.33875582e+00,\n",
       "        -9.40574181e-01,  1.02410441e+00,  1.02875868e+00,\n",
       "        -4.63521226e-01,  1.58692281e-02, -4.19704001e-01,\n",
       "        -6.72050992e-01],\n",
       "       [ 2.61847795e-01, -5.37222592e-01,  8.56852572e-01,\n",
       "        -9.40574181e-01, -1.41328113e+00,  5.54073635e-01,\n",
       "         2.12184470e-01,  2.16767975e+00, -4.19704001e-01,\n",
       "         3.73872072e-01]])"
      ]
     },
     "execution_count": 50,
     "metadata": {},
     "output_type": "execute_result"
    }
   ],
   "source": [
    "X_train_norm[0:5]"
   ]
  },
  {
   "cell_type": "code",
   "execution_count": null,
   "id": "d17a7f11",
   "metadata": {},
   "outputs": [],
   "source": []
  },
  {
   "cell_type": "markdown",
   "id": "8b52f1be",
   "metadata": {},
   "source": [
    "# Classification"
   ]
  },
  {
   "cell_type": "markdown",
   "id": "599c9b08",
   "metadata": {},
   "source": [
    "# K nearest neighbor (KNN)"
   ]
  },
  {
   "cell_type": "code",
   "execution_count": 51,
   "id": "9cdd1761",
   "metadata": {},
   "outputs": [],
   "source": [
    "knncl=KNeighborsClassifier(n_neighbors=6)"
   ]
  },
  {
   "cell_type": "code",
   "execution_count": 52,
   "id": "3147c6ac",
   "metadata": {},
   "outputs": [
    {
     "data": {
      "text/html": [
       "<style>#sk-container-id-1 {color: black;background-color: white;}#sk-container-id-1 pre{padding: 0;}#sk-container-id-1 div.sk-toggleable {background-color: white;}#sk-container-id-1 label.sk-toggleable__label {cursor: pointer;display: block;width: 100%;margin-bottom: 0;padding: 0.3em;box-sizing: border-box;text-align: center;}#sk-container-id-1 label.sk-toggleable__label-arrow:before {content: \"▸\";float: left;margin-right: 0.25em;color: #696969;}#sk-container-id-1 label.sk-toggleable__label-arrow:hover:before {color: black;}#sk-container-id-1 div.sk-estimator:hover label.sk-toggleable__label-arrow:before {color: black;}#sk-container-id-1 div.sk-toggleable__content {max-height: 0;max-width: 0;overflow: hidden;text-align: left;background-color: #f0f8ff;}#sk-container-id-1 div.sk-toggleable__content pre {margin: 0.2em;color: black;border-radius: 0.25em;background-color: #f0f8ff;}#sk-container-id-1 input.sk-toggleable__control:checked~div.sk-toggleable__content {max-height: 200px;max-width: 100%;overflow: auto;}#sk-container-id-1 input.sk-toggleable__control:checked~label.sk-toggleable__label-arrow:before {content: \"▾\";}#sk-container-id-1 div.sk-estimator input.sk-toggleable__control:checked~label.sk-toggleable__label {background-color: #d4ebff;}#sk-container-id-1 div.sk-label input.sk-toggleable__control:checked~label.sk-toggleable__label {background-color: #d4ebff;}#sk-container-id-1 input.sk-hidden--visually {border: 0;clip: rect(1px 1px 1px 1px);clip: rect(1px, 1px, 1px, 1px);height: 1px;margin: -1px;overflow: hidden;padding: 0;position: absolute;width: 1px;}#sk-container-id-1 div.sk-estimator {font-family: monospace;background-color: #f0f8ff;border: 1px dotted black;border-radius: 0.25em;box-sizing: border-box;margin-bottom: 0.5em;}#sk-container-id-1 div.sk-estimator:hover {background-color: #d4ebff;}#sk-container-id-1 div.sk-parallel-item::after {content: \"\";width: 100%;border-bottom: 1px solid gray;flex-grow: 1;}#sk-container-id-1 div.sk-label:hover label.sk-toggleable__label {background-color: #d4ebff;}#sk-container-id-1 div.sk-serial::before {content: \"\";position: absolute;border-left: 1px solid gray;box-sizing: border-box;top: 0;bottom: 0;left: 50%;z-index: 0;}#sk-container-id-1 div.sk-serial {display: flex;flex-direction: column;align-items: center;background-color: white;padding-right: 0.2em;padding-left: 0.2em;position: relative;}#sk-container-id-1 div.sk-item {position: relative;z-index: 1;}#sk-container-id-1 div.sk-parallel {display: flex;align-items: stretch;justify-content: center;background-color: white;position: relative;}#sk-container-id-1 div.sk-item::before, #sk-container-id-1 div.sk-parallel-item::before {content: \"\";position: absolute;border-left: 1px solid gray;box-sizing: border-box;top: 0;bottom: 0;left: 50%;z-index: -1;}#sk-container-id-1 div.sk-parallel-item {display: flex;flex-direction: column;z-index: 1;position: relative;background-color: white;}#sk-container-id-1 div.sk-parallel-item:first-child::after {align-self: flex-end;width: 50%;}#sk-container-id-1 div.sk-parallel-item:last-child::after {align-self: flex-start;width: 50%;}#sk-container-id-1 div.sk-parallel-item:only-child::after {width: 0;}#sk-container-id-1 div.sk-dashed-wrapped {border: 1px dashed gray;margin: 0 0.4em 0.5em 0.4em;box-sizing: border-box;padding-bottom: 0.4em;background-color: white;}#sk-container-id-1 div.sk-label label {font-family: monospace;font-weight: bold;display: inline-block;line-height: 1.2em;}#sk-container-id-1 div.sk-label-container {text-align: center;}#sk-container-id-1 div.sk-container {/* jupyter's `normalize.less` sets `[hidden] { display: none; }` but bootstrap.min.css set `[hidden] { display: none !important; }` so we also need the `!important` here to be able to override the default hidden behavior on the sphinx rendered scikit-learn.org. See: https://github.com/scikit-learn/scikit-learn/issues/21755 */display: inline-block !important;position: relative;}#sk-container-id-1 div.sk-text-repr-fallback {display: none;}</style><div id=\"sk-container-id-1\" class=\"sk-top-container\"><div class=\"sk-text-repr-fallback\"><pre>KNeighborsClassifier(n_neighbors=6)</pre><b>In a Jupyter environment, please rerun this cell to show the HTML representation or trust the notebook. <br />On GitHub, the HTML representation is unable to render, please try loading this page with nbviewer.org.</b></div><div class=\"sk-container\" hidden><div class=\"sk-item\"><div class=\"sk-estimator sk-toggleable\"><input class=\"sk-toggleable__control sk-hidden--visually\" id=\"sk-estimator-id-1\" type=\"checkbox\" checked><label for=\"sk-estimator-id-1\" class=\"sk-toggleable__label sk-toggleable__label-arrow\">KNeighborsClassifier</label><div class=\"sk-toggleable__content\"><pre>KNeighborsClassifier(n_neighbors=6)</pre></div></div></div></div></div>"
      ],
      "text/plain": [
       "KNeighborsClassifier(n_neighbors=6)"
      ]
     },
     "execution_count": 52,
     "metadata": {},
     "output_type": "execute_result"
    }
   ],
   "source": [
    "knncl.fit(X_train_norm,y_train)"
   ]
  },
  {
   "cell_type": "code",
   "execution_count": 53,
   "id": "6be7a3af",
   "metadata": {},
   "outputs": [
    {
     "data": {
      "text/plain": [
       "array([[ 1.31397223,  0.41209656,  0.8546079 ,  0.11652754, -0.79636824,\n",
       "        -0.00543963, -1.34340516, -0.63807756, -0.4245206 ,  1.16961787],\n",
       "       [ 0.28402015,  0.10761981,  0.8546079 , -0.03245771, -0.18704309,\n",
       "         1.49108605, -0.19252812,  0.92320604, -0.4245206 ,  0.64706411],\n",
       "       [ 0.28402015, -0.59947083,  0.11940701,  0.06258855,  1.64093236,\n",
       "        -0.45439733, -1.5104552 ,  0.26582347, -0.4245206 ,  1.16961787],\n",
       "       [-0.23095589, -0.70410173,  0.8546079 , -0.13994166,  0.42228206,\n",
       "        -0.52922361,  0.77042039,  0.51234193,  2.35559827, -0.92059716],\n",
       "       [-0.05929721,  0.11916655, -1.35099475,  0.88593512, -0.18704309,\n",
       "        -0.75370247,  1.36253772, -1.09539241, -0.4245206 ,  0.12451036]])"
      ]
     },
     "execution_count": 53,
     "metadata": {},
     "output_type": "execute_result"
    }
   ],
   "source": [
    "X_test_norm = preprocessing.StandardScaler().fit(X_test).transform(X_test.astype(float))\n",
    "X_test_norm[0:5]"
   ]
  },
  {
   "cell_type": "markdown",
   "id": "eee0a2e1",
   "metadata": {},
   "source": [
    "Predicting"
   ]
  },
  {
   "cell_type": "code",
   "execution_count": 54,
   "id": "4d74a194",
   "metadata": {},
   "outputs": [
    {
     "data": {
      "text/plain": [
       "array([0, 1, 0, 0, 1], dtype=int64)"
      ]
     },
     "execution_count": 54,
     "metadata": {},
     "output_type": "execute_result"
    }
   ],
   "source": [
    "yhat = knncl.predict(X_test_norm)\n",
    "yhat[0:5]"
   ]
  },
  {
   "cell_type": "markdown",
   "id": "0393bf0d",
   "metadata": {},
   "source": [
    "Accuracy evaluation"
   ]
  },
  {
   "cell_type": "code",
   "execution_count": 55,
   "id": "6c0b28a7",
   "metadata": {},
   "outputs": [
    {
     "name": "stdout",
     "output_type": "stream",
     "text": [
      "Train set Accuracy:  0.8812690156050643\n",
      "Test set Accuracy:  0.8321884200196271\n"
     ]
    }
   ],
   "source": [
    "print(\"Train set Accuracy: \", metrics.accuracy_score(y_train, knncl.predict(X_train_norm)))\n",
    "print(\"Test set Accuracy: \", metrics.accuracy_score(y_test, yhat))"
   ]
  },
  {
   "cell_type": "markdown",
   "id": "c5c3a441",
   "metadata": {},
   "source": [
    "Accuracy of KNN for different values of k."
   ]
  },
  {
   "cell_type": "code",
   "execution_count": 56,
   "id": "c36769c9",
   "metadata": {},
   "outputs": [
    {
     "data": {
      "text/plain": [
       "array([0.83758587, 0.82983317, 0.83366045, 0.83169774, 0.83748773,\n",
       "       0.83218842, 0.83248283, 0.8313052 , 0.83120707])"
      ]
     },
     "execution_count": 56,
     "metadata": {},
     "output_type": "execute_result"
    }
   ],
   "source": [
    "Ks = 10\n",
    "mean_acc = np.zeros((Ks-1))\n",
    "std_acc = np.zeros((Ks-1))\n",
    "\n",
    "for n in range(1,Ks):\n",
    "    \n",
    "    #Train Model and Predict  \n",
    "    knncl = KNeighborsClassifier(n_neighbors = n).fit(X_train_norm,y_train)\n",
    "    yhat=knncl.predict(X_test_norm)\n",
    "    mean_acc[n-1] = metrics.accuracy_score(y_test, yhat)\n",
    "\n",
    "    \n",
    "    std_acc[n-1]=np.std(yhat==y_test)/np.sqrt(yhat.shape[0])\n",
    "\n",
    "mean_acc"
   ]
  },
  {
   "cell_type": "markdown",
   "id": "ff148442",
   "metadata": {},
   "source": [
    "Plot the model accuracy for a different number of neighbors."
   ]
  },
  {
   "cell_type": "code",
   "execution_count": 57,
   "id": "4079aba9",
   "metadata": {},
   "outputs": [
    {
     "data": {
      "image/png": "[encoded data removed]",
      "text/plain": [
       "<Figure size 640x480 with 1 Axes>"
      ]
     },
     "metadata": {},
     "output_type": "display_data"
    }
   ],
   "source": [
    "plt.plot(range(1,Ks),mean_acc,'g')\n",
    "plt.fill_between(range(1,Ks),mean_acc - 1 * std_acc,mean_acc + 1 * std_acc, alpha=0.10)\n",
    "plt.fill_between(range(1,Ks),mean_acc - 3 * std_acc,mean_acc + 3 * std_acc, alpha=0.10,color=\"green\")\n",
    "plt.legend(('Accuracy ', '+/- 1xstd','+/- 3xstd'))\n",
    "plt.ylabel('Accuracy ')\n",
    "plt.xlabel('Number of Neighbors (K)')\n",
    "plt.tight_layout()\n",
    "plt.show()"
   ]
  },
  {
   "cell_type": "markdown",
   "id": "a6cfc3a5",
   "metadata": {},
   "source": [
    "When k=7"
   ]
  },
  {
   "cell_type": "code",
   "execution_count": 58,
   "id": "ae089a20",
   "metadata": {},
   "outputs": [
    {
     "name": "stdout",
     "output_type": "stream",
     "text": [
      "Train set Accuracy:  0.8778339385611934\n",
      "Test set Accuracy:  0.8324828263002944\n"
     ]
    }
   ],
   "source": [
    "k = 7\n",
    "neigh7 = KNeighborsClassifier(n_neighbors = k).fit(X_train_norm,y_train)\n",
    "yhat7 = neigh7.predict(X_test_norm)\n",
    "print(\"Train set Accuracy: \", metrics.accuracy_score(y_train, neigh7.predict(X_train_norm)))\n",
    "print(\"Test set Accuracy: \", metrics.accuracy_score(y_test, yhat7))"
   ]
  },
  {
   "cell_type": "markdown",
   "id": "586c3b9a",
   "metadata": {},
   "source": [
    "Cross Validation"
   ]
  },
  {
   "cell_type": "code",
   "execution_count": 59,
   "id": "b2389070",
   "metadata": {},
   "outputs": [
    {
     "name": "stdout",
     "output_type": "stream",
     "text": [
      "Cross-Validation Results:\n",
      "[0.83758587 0.8390579  0.82998037 0.83047105 0.83243376 0.82679097\n",
      " 0.83165644 0.8208589  0.83509202 0.83337423]\n",
      "Mean Accuracy: 0.83\n"
     ]
    }
   ],
   "source": [
    "knn_classifier = KNeighborsClassifier(n_neighbors=5)\n",
    "\n",
    "num_folds = 10\n",
    "\n",
    "cv_strategy = StratifiedKFold(n_splits=num_folds, shuffle=True, random_state=42)\n",
    "\n",
    "cross_val_results = cross_val_score(knn_classifier, X_train_norm, y_train, cv=cv_strategy, scoring='accuracy')\n",
    "\n",
    "print(\"Cross-Validation Results:\")\n",
    "print(cross_val_results)\n",
    "print(\"Mean Accuracy: {:.2f}\".format(cross_val_results.mean()))"
   ]
  },
  {
   "cell_type": "code",
   "execution_count": 60,
   "id": "b4db9b73",
   "metadata": {},
   "outputs": [
    {
     "data": {
      "image/png": "[encoded data removed]",
      "text/plain": [
       "<Figure size 800x600 with 2 Axes>"
      ]
     },
     "metadata": {},
     "output_type": "display_data"
    }
   ],
   "source": [
    "# Compute the confusion matrix\n",
    "conf_matrix_knn = confusion_matrix(y_test, yhat7)\n",
    "\n",
    "# Display the confusion matrix using a heatmap\n",
    "plt.figure(figsize=(8, 6))\n",
    "sns.heatmap(conf_matrix_knn, annot=True, fmt='d', cmap='Blues', xticklabels=['0', '1'], yticklabels=['0', '1'])\n",
    "plt.xlabel('Predicted Label')\n",
    "plt.ylabel('True Label')\n",
    "plt.title('Confusion Matrix - KNN')\n",
    "plt.show()\n"
   ]
  },
  {
   "cell_type": "markdown",
   "id": "4cb6fba2",
   "metadata": {},
   "source": [
    "# Decision Trees"
   ]
  },
  {
   "cell_type": "code",
   "execution_count": 61,
   "id": "58fa2389",
   "metadata": {},
   "outputs": [
    {
     "data": {
      "text/html": [
       "<style>#sk-container-id-2 {color: black;background-color: white;}#sk-container-id-2 pre{padding: 0;}#sk-container-id-2 div.sk-toggleable {background-color: white;}#sk-container-id-2 label.sk-toggleable__label {cursor: pointer;display: block;width: 100%;margin-bottom: 0;padding: 0.3em;box-sizing: border-box;text-align: center;}#sk-container-id-2 label.sk-toggleable__label-arrow:before {content: \"▸\";float: left;margin-right: 0.25em;color: #696969;}#sk-container-id-2 label.sk-toggleable__label-arrow:hover:before {color: black;}#sk-container-id-2 div.sk-estimator:hover label.sk-toggleable__label-arrow:before {color: black;}#sk-container-id-2 div.sk-toggleable__content {max-height: 0;max-width: 0;overflow: hidden;text-align: left;background-color: #f0f8ff;}#sk-container-id-2 div.sk-toggleable__content pre {margin: 0.2em;color: black;border-radius: 0.25em;background-color: #f0f8ff;}#sk-container-id-2 input.sk-toggleable__control:checked~div.sk-toggleable__content {max-height: 200px;max-width: 100%;overflow: auto;}#sk-container-id-2 input.sk-toggleable__control:checked~label.sk-toggleable__label-arrow:before {content: \"▾\";}#sk-container-id-2 div.sk-estimator input.sk-toggleable__control:checked~label.sk-toggleable__label {background-color: #d4ebff;}#sk-container-id-2 div.sk-label input.sk-toggleable__control:checked~label.sk-toggleable__label {background-color: #d4ebff;}#sk-container-id-2 input.sk-hidden--visually {border: 0;clip: rect(1px 1px 1px 1px);clip: rect(1px, 1px, 1px, 1px);height: 1px;margin: -1px;overflow: hidden;padding: 0;position: absolute;width: 1px;}#sk-container-id-2 div.sk-estimator {font-family: monospace;background-color: #f0f8ff;border: 1px dotted black;border-radius: 0.25em;box-sizing: border-box;margin-bottom: 0.5em;}#sk-container-id-2 div.sk-estimator:hover {background-color: #d4ebff;}#sk-container-id-2 div.sk-parallel-item::after {content: \"\";width: 100%;border-bottom: 1px solid gray;flex-grow: 1;}#sk-container-id-2 div.sk-label:hover label.sk-toggleable__label {background-color: #d4ebff;}#sk-container-id-2 div.sk-serial::before {content: \"\";position: absolute;border-left: 1px solid gray;box-sizing: border-box;top: 0;bottom: 0;left: 50%;z-index: 0;}#sk-container-id-2 div.sk-serial {display: flex;flex-direction: column;align-items: center;background-color: white;padding-right: 0.2em;padding-left: 0.2em;position: relative;}#sk-container-id-2 div.sk-item {position: relative;z-index: 1;}#sk-container-id-2 div.sk-parallel {display: flex;align-items: stretch;justify-content: center;background-color: white;position: relative;}#sk-container-id-2 div.sk-item::before, #sk-container-id-2 div.sk-parallel-item::before {content: \"\";position: absolute;border-left: 1px solid gray;box-sizing: border-box;top: 0;bottom: 0;left: 50%;z-index: -1;}#sk-container-id-2 div.sk-parallel-item {display: flex;flex-direction: column;z-index: 1;position: relative;background-color: white;}#sk-container-id-2 div.sk-parallel-item:first-child::after {align-self: flex-end;width: 50%;}#sk-container-id-2 div.sk-parallel-item:last-child::after {align-self: flex-start;width: 50%;}#sk-container-id-2 div.sk-parallel-item:only-child::after {width: 0;}#sk-container-id-2 div.sk-dashed-wrapped {border: 1px dashed gray;margin: 0 0.4em 0.5em 0.4em;box-sizing: border-box;padding-bottom: 0.4em;background-color: white;}#sk-container-id-2 div.sk-label label {font-family: monospace;font-weight: bold;display: inline-block;line-height: 1.2em;}#sk-container-id-2 div.sk-label-container {text-align: center;}#sk-container-id-2 div.sk-container {/* jupyter's `normalize.less` sets `[hidden] { display: none; }` but bootstrap.min.css set `[hidden] { display: none !important; }` so we also need the `!important` here to be able to override the default hidden behavior on the sphinx rendered scikit-learn.org. See: https://github.com/scikit-learn/scikit-learn/issues/21755 */display: inline-block !important;position: relative;}#sk-container-id-2 div.sk-text-repr-fallback {display: none;}</style><div id=\"sk-container-id-2\" class=\"sk-top-container\"><div class=\"sk-text-repr-fallback\"><pre>DecisionTreeClassifier(criterion=&#x27;entropy&#x27;, max_depth=4)</pre><b>In a Jupyter environment, please rerun this cell to show the HTML representation or trust the notebook. <br />On GitHub, the HTML representation is unable to render, please try loading this page with nbviewer.org.</b></div><div class=\"sk-container\" hidden><div class=\"sk-item\"><div class=\"sk-estimator sk-toggleable\"><input class=\"sk-toggleable__control sk-hidden--visually\" id=\"sk-estimator-id-2\" type=\"checkbox\" checked><label for=\"sk-estimator-id-2\" class=\"sk-toggleable__label sk-toggleable__label-arrow\">DecisionTreeClassifier</label><div class=\"sk-toggleable__content\"><pre>DecisionTreeClassifier(criterion=&#x27;entropy&#x27;, max_depth=4)</pre></div></div></div></div></div>"
      ],
      "text/plain": [
       "DecisionTreeClassifier(criterion='entropy', max_depth=4)"
      ]
     },
     "execution_count": 61,
     "metadata": {},
     "output_type": "execute_result"
    }
   ],
   "source": [
    "clt=DecisionTreeClassifier(criterion=\"entropy\",max_depth=4)\n",
    "clt.fit(X_train,y_train)"
   ]
  },
  {
   "cell_type": "code",
   "execution_count": 62,
   "id": "f81b5083",
   "metadata": {},
   "outputs": [],
   "source": [
    "# plt.figure(figsize=(20,20))\n",
    "# plot_tree(clt,feature_names=data_12.columns,class_names=[\"1\",\"2\"],filled=True)\n",
    "# plt.show()"
   ]
  },
  {
   "cell_type": "markdown",
   "id": "9c8bbe60",
   "metadata": {},
   "source": [
    "Prediction"
   ]
  },
  {
   "cell_type": "code",
   "execution_count": 63,
   "id": "aa786e50",
   "metadata": {},
   "outputs": [],
   "source": [
    "y_pred_tree = clt.predict(X_test)"
   ]
  },
  {
   "cell_type": "code",
   "execution_count": 64,
   "id": "a956e83f",
   "metadata": {},
   "outputs": [
    {
     "name": "stdout",
     "output_type": "stream",
     "text": [
      "[0 1 0 1 1]\n",
      "[0 1 0 1 1]\n"
     ]
    }
   ],
   "source": [
    "print (y_pred_tree [0:5])\n",
    "print (y_test [0:5])"
   ]
  },
  {
   "cell_type": "code",
   "execution_count": 65,
   "id": "31a89b2c",
   "metadata": {},
   "outputs": [
    {
     "data": {
      "text/plain": [
       "array([[4594,  507],\n",
       "       [1354, 3735]], dtype=int64)"
      ]
     },
     "execution_count": 65,
     "metadata": {},
     "output_type": "execute_result"
    }
   ],
   "source": [
    "confusion_matrix(y_test,y_pred_tree)"
   ]
  },
  {
   "cell_type": "markdown",
   "id": "a15d1a33",
   "metadata": {},
   "source": [
    "Evaluation"
   ]
  },
  {
   "cell_type": "code",
   "execution_count": 66,
   "id": "76a47861",
   "metadata": {},
   "outputs": [
    {
     "name": "stdout",
     "output_type": "stream",
     "text": [
      "DecisionTrees's Accuracy:  0.8173699705593719\n"
     ]
    }
   ],
   "source": [
    "print(\"DecisionTrees's Accuracy: \", metrics.accuracy_score(y_test, y_pred_tree))"
   ]
  },
  {
   "cell_type": "code",
   "execution_count": 67,
   "id": "3f566f71",
   "metadata": {},
   "outputs": [
    {
     "name": "stdout",
     "output_type": "stream",
     "text": [
      "              precision    recall  f1-score   support\n",
      "\n",
      "           0       0.77      0.90      0.83      5101\n",
      "           1       0.88      0.73      0.80      5089\n",
      "\n",
      "    accuracy                           0.82     10190\n",
      "   macro avg       0.83      0.82      0.82     10190\n",
      "weighted avg       0.83      0.82      0.82     10190\n",
      "\n"
     ]
    }
   ],
   "source": [
    "print(classification_report(y_test,y_pred_tree))"
   ]
  },
  {
   "cell_type": "markdown",
   "id": "fade7bcf",
   "metadata": {},
   "source": [
    "Visualization"
   ]
  },
  {
   "cell_type": "code",
   "execution_count": 68,
   "id": "e02dad17",
   "metadata": {},
   "outputs": [
    {
     "data": {
      "image/png": "[encoded data removed]",
      "text/plain": [
       "<Figure size 640x480 with 1 Axes>"
      ]
     },
     "metadata": {},
     "output_type": "display_data"
    }
   ],
   "source": [
    "tree.plot_tree(clt)\n",
    "plt.show()"
   ]
  },
  {
   "cell_type": "code",
   "execution_count": 69,
   "id": "b47692b1",
   "metadata": {},
   "outputs": [
    {
     "name": "stdout",
     "output_type": "stream",
     "text": [
      "Cross-Validation Results:\n",
      "[0.81207066 0.81084396 0.80863592 0.81133464 0.81844946 0.81673209\n",
      " 0.80588957 0.80368098 0.8208589  0.80662577]\n",
      "Mean Accuracy: 0.81\n"
     ]
    }
   ],
   "source": [
    "num_folds = 10\n",
    "\n",
    "cv_strategy = StratifiedKFold(n_splits=num_folds, shuffle=True, random_state=42)\n",
    "\n",
    "cross_val_results = cross_val_score(clt, X_train, y_train, cv=cv_strategy, scoring='accuracy')\n",
    "\n",
    "print(\"Cross-Validation Results:\")\n",
    "print(cross_val_results)\n",
    "print(\"Mean Accuracy: {:.2f}\".format(cross_val_results.mean()))"
   ]
  },
  {
   "cell_type": "code",
   "execution_count": 70,
   "id": "20a2221c",
   "metadata": {},
   "outputs": [
    {
     "data": {
      "image/png": "[encoded data removed]",
      "text/plain": [
       "<Figure size 800x600 with 2 Axes>"
      ]
     },
     "metadata": {},
     "output_type": "display_data"
    }
   ],
   "source": [
    "# Compute the confusion matrix\n",
    "conf_matrix_dt = confusion_matrix(y_test, y_pred_tree)\n",
    "\n",
    "# Display the confusion matrix using a heatmap\n",
    "plt.figure(figsize=(8, 6))\n",
    "sns.heatmap(conf_matrix_dt, annot=True, fmt='d', cmap='Blues', xticklabels=['0', '1'], yticklabels=['0', '1'])\n",
    "plt.xlabel('Predicted Label')\n",
    "plt.ylabel('True Label')\n",
    "plt.title('Confusion Matrix - Decision Tree')\n",
    "plt.show()\n"
   ]
  },
  {
   "cell_type": "code",
   "execution_count": 71,
   "id": "88149531",
   "metadata": {},
   "outputs": [
    {
     "name": "stdout",
     "output_type": "stream",
     "text": [
      "Accuracy (KNN): 0.83\n",
      "Accuracy (Decision Tree): 0.82\n"
     ]
    },
    {
     "data": {
      "image/png": "[encoded data removed]",
      "text/plain": [
       "<Figure size 1200x500 with 4 Axes>"
      ]
     },
     "metadata": {},
     "output_type": "display_data"
    }
   ],
   "source": [
    "# Compute and print the accuracy for KNN\n",
    "accuracy_knn = accuracy_score(y_test, yhat)\n",
    "print(f\"Accuracy (KNN): {accuracy_knn:.2f}\")\n",
    "\n",
    "# Compute and print the accuracy for Decision Tree\n",
    "accuracy_dt = accuracy_score(y_test, y_pred_tree)\n",
    "print(f\"Accuracy (Decision Tree): {accuracy_dt:.2f}\")\n",
    "\n",
    "# Plot confusion matrices side by side\n",
    "conf_matrix_knn = confusion_matrix(y_test, yhat)\n",
    "conf_matrix_dt = confusion_matrix(y_test, y_pred_tree)\n",
    "\n",
    "fig, axes = plt.subplots(nrows=1, ncols=2, figsize=(12, 5))\n",
    "\n",
    "# Plot for KNN\n",
    "sns.heatmap(conf_matrix_knn, annot=True, fmt='d', cmap='Blues', xticklabels=['0', '1'], yticklabels=['0', '1'], ax=axes[0])\n",
    "axes[0].set_xlabel('Predicted Label')\n",
    "axes[0].set_ylabel('True Label')\n",
    "axes[0].set_title('Confusion Matrix - KNN')\n",
    "\n",
    "# Plot for Decision Tree\n",
    "sns.heatmap(conf_matrix_dt, annot=True, fmt='d', cmap='Blues', xticklabels=['0', '1'], yticklabels=['0', '1'], ax=axes[1])\n",
    "axes[1].set_xlabel('Predicted Label')\n",
    "axes[1].set_ylabel('True Label')\n",
    "axes[1].set_title('Confusion Matrix - Decision Tree')\n",
    "\n",
    "plt.tight_layout()\n",
    "plt.show()\n"
   ]
  },
  {
   "cell_type": "code",
   "execution_count": null,
   "id": "7f56bcb5",
   "metadata": {},
   "outputs": [],
   "source": []
  },
  {
   "cell_type": "code",
   "execution_count": null,
   "id": "30e4724a",
   "metadata": {},
   "outputs": [],
   "source": []
  },
  {
   "cell_type": "code",
   "execution_count": 76,
   "id": "d9749a74",
   "metadata": {},
   "outputs": [
    {
     "data": {
      "image/png": "[encoded data removed]",
      "text/plain": [
       "<Figure size 640x480 with 1 Axes>"
      ]
     },
     "metadata": {},
     "output_type": "display_data"
    },
    {
     "data": {
      "image/png": "[encoded data removed]",
      "text/plain": [
       "<Figure size 640x480 with 1 Axes>"
      ]
     },
     "metadata": {},
     "output_type": "display_data"
    }
   ],
   "source": [
    "# KNN Model\n",
    "k_values = [1, 3, 5, 7, 9]\n",
    "train_accuracies = []\n",
    "test_accuracies = []\n",
    "\n",
    "for k in k_values:\n",
    "    \n",
    "    \n",
    "    # Training accuracy\n",
    "    train_pred = knncl.predict(X_train_norm)\n",
    "    train_acc = accuracy_score(y_train, train_pred)\n",
    "    train_accuracies.append(train_acc)\n",
    "    \n",
    "    # Testing accuracy\n",
    "    test_pred = knncl.predict(X_test_norm)\n",
    "    test_acc = accuracy_score(y_test, test_pred)\n",
    "    test_accuracies.append(test_acc)\n",
    "\n",
    "# Plot the accuracy vs. k\n",
    "plt.plot(k_values, train_accuracies, label='Training Accuracy')\n",
    "plt.plot(k_values, test_accuracies, label='Testing Accuracy')\n",
    "plt.xlabel('Number of Neighbors (k)')\n",
    "plt.ylabel('Accuracy')\n",
    "plt.title('KNN Model: Training vs. Testing Accuracy')\n",
    "plt.legend()\n",
    "plt.show()\n",
    "\n",
    "# Decision Tree Model\n",
    "depth_values = [1, 3, 5, 7, 9]\n",
    "train_accuracies_dt = []\n",
    "test_accuracies_dt = []\n",
    "\n",
    "for depth in depth_values:\n",
    "    \n",
    "    \n",
    "    # Training accuracy\n",
    "    train_pred_dt = clt.predict(X_train)\n",
    "    train_acc_dt = accuracy_score(y_train, train_pred_dt)\n",
    "    train_accuracies_dt.append(train_acc_dt)\n",
    "    \n",
    "    # Testing accuracy\n",
    "    test_pred_dt = clt.predict(X_test)\n",
    "    test_acc_dt = accuracy_score(y_test, test_pred_dt)\n",
    "    test_accuracies_dt.append(test_acc_dt)\n",
    "\n",
    "# Plot the accuracy vs. max depth\n",
    "plt.plot(depth_values, train_accuracies_dt, label='Training Accuracy')\n",
    "plt.plot(depth_values, test_accuracies_dt, label='Testing Accuracy')\n",
    "plt.xlabel('Max Depth')\n",
    "plt.ylabel('Accuracy')\n",
    "plt.title('Decision Tree Model: Training vs. Testing Accuracy')\n",
    "plt.legend()\n",
    "plt.show()\n"
   ]
  },
  {
   "cell_type": "code",
   "execution_count": 74,
   "id": "d90b25a7",
   "metadata": {},
   "outputs": [
    {
     "name": "stdout",
     "output_type": "stream",
     "text": [
      "KNN Average Accuracy: 0.83\n",
      "Decision Tree Average Accuracy: 0.81\n"
     ]
    }
   ],
   "source": [
    "# KNN model\n",
    "k_fold = KFold(n_splits=10, shuffle=True, random_state=42)\n",
    "knn_scores = cross_val_score(knncl, X_train_norm, y_train, cv=10, scoring='accuracy')\n",
    "\n",
    "# Decision Tree model\n",
    "dt_scores = cross_val_score(clt, X, y, cv=10, scoring='accuracy')\n",
    "\n",
    "# Print average scores\n",
    "print(\"KNN Average Accuracy: {:.2f}\".format(np.mean(knn_scores)))\n",
    "print(\"Decision Tree Average Accuracy: {:.2f}\".format(np.mean(dt_scores)))\n"
   ]
  },
  {
   "cell_type": "code",
   "execution_count": null,
   "id": "333b6463",
   "metadata": {},
   "outputs": [],
   "source": []
  }
 ],
 "metadata": {
  "kernelspec": {
   "display_name": "Python 3 (ipykernel)",
   "language": "python",
   "name": "python3"
  },
  "language_info": {
   "codemirror_mode": {
    "name": "ipython",
    "version": 3
   },
   "file_extension": ".py",
   "mimetype": "text/x-python",
   "name": "python",
   "nbconvert_exporter": "python",
   "pygments_lexer": "ipython3",
   "version": "3.10.9"
  }
 },
 "nbformat": 4,
 "nbformat_minor": 5
}
